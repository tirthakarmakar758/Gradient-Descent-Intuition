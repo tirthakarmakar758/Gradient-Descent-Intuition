{
  "cells": [
    {
      "cell_type": "code",
      "execution_count": null,
      "metadata": {
        "id": "j0_vIFJWk1Gg"
      },
      "outputs": [],
      "source": [
        "import numpy as np"
      ]
    },
    {
      "cell_type": "markdown",
      "metadata": {
        "id": "l8mysJTawoU-"
      },
      "source": [
        "# 🧊 Array Attributes\n",
        "\n"
      ]
    },
    {
      "cell_type": "markdown",
      "metadata": {
        "id": "qOcrQriQwgI2"
      },
      "source": [
        "### (a.ndim, a.size, a.shape, a.dtype)"
      ]
    },
    {
      "cell_type": "code",
      "execution_count": null,
      "metadata": {
        "id": "KP3f4gUZlRe6"
      },
      "outputs": [],
      "source": [
        "a = np.array([[1, 2, 3],\n",
        "              [4, 5, 6],\n",
        "              [7, 8, 9],\n",
        "              [0, 1, 0]])"
      ]
    },
    {
      "cell_type": "code",
      "execution_count": null,
      "metadata": {
        "colab": {
          "base_uri": "https://localhost:8080/"
        },
        "id": "FaevmN_dBPfA",
        "outputId": "ce8f347b-2213-4809-92d8-d09408c7df11"
      },
      "outputs": [
        {
          "output_type": "execute_result",
          "data": {
            "text/plain": [
              "array(1)"
            ]
          },
          "metadata": {},
          "execution_count": 3
        }
      ],
      "source": [
        "np.array([1,2,3,4,5,6,7,8,9,10][0]) # indexing with array"
      ]
    },
    {
      "cell_type": "code",
      "execution_count": null,
      "metadata": {
        "colab": {
          "base_uri": "https://localhost:8080/"
        },
        "id": "vg_oGihnoAvT",
        "outputId": "24818409-9396-401b-f4d3-56fbed5c8e3d"
      },
      "outputs": [
        {
          "output_type": "execute_result",
          "data": {
            "text/plain": [
              "2"
            ]
          },
          "metadata": {},
          "execution_count": 4
        }
      ],
      "source": [
        "# Return the dimensions of the array\n",
        "a.ndim # 1D or 2D or 3D"
      ]
    },
    {
      "cell_type": "code",
      "execution_count": null,
      "metadata": {
        "colab": {
          "base_uri": "https://localhost:8080/"
        },
        "id": "WDTQ6tN8p2VJ",
        "outputId": "82403457-ac4b-475f-9206-515938e8f46d"
      },
      "outputs": [
        {
          "output_type": "execute_result",
          "data": {
            "text/plain": [
              "(4, 3)"
            ]
          },
          "metadata": {},
          "execution_count": 5
        }
      ],
      "source": [
        "# Returns a tuple showing the size (rows,cols)\n",
        "a.shape"
      ]
    },
    {
      "cell_type": "code",
      "execution_count": null,
      "metadata": {
        "colab": {
          "base_uri": "https://localhost:8080/"
        },
        "id": "je9c7B3xqpEj",
        "outputId": "e834dd72-55c8-472c-dc8a-37366dde4454"
      },
      "outputs": [
        {
          "output_type": "execute_result",
          "data": {
            "text/plain": [
              "12"
            ]
          },
          "metadata": {},
          "execution_count": 6
        }
      ],
      "source": [
        "# Returns total number of elements in the array\n",
        "a.size"
      ]
    },
    {
      "cell_type": "code",
      "execution_count": null,
      "metadata": {
        "colab": {
          "base_uri": "https://localhost:8080/"
        },
        "id": "a-bzf-UTlRkt",
        "outputId": "d679609e-82ff-4268-aafb-377796fabe78"
      },
      "outputs": [
        {
          "output_type": "execute_result",
          "data": {
            "text/plain": [
              "dtype('int64')"
            ]
          },
          "metadata": {},
          "execution_count": 7
        }
      ],
      "source": [
        "# Gives the data type of elements in the array\n",
        "a.dtype"
      ]
    },
    {
      "cell_type": "code",
      "execution_count": null,
      "metadata": {
        "colab": {
          "base_uri": "https://localhost:8080/"
        },
        "id": "-yAGFpR6lRt6",
        "outputId": "5f3088eb-f7fa-4820-e488-3e77d8dc2947"
      },
      "outputs": [
        {
          "output_type": "execute_result",
          "data": {
            "text/plain": [
              "True"
            ]
          },
          "metadata": {},
          "execution_count": 8
        }
      ],
      "source": [
        "# Always True\n",
        "# dimension of array = len((rows,col,...))\n",
        "a.ndim == len(a.shape)"
      ]
    },
    {
      "cell_type": "code",
      "execution_count": null,
      "metadata": {
        "colab": {
          "base_uri": "https://localhost:8080/"
        },
        "id": "BeFzoUE0qYDD",
        "outputId": "78875f74-2937-4475-d7bc-ec761841f288"
      },
      "outputs": [
        {
          "output_type": "execute_result",
          "data": {
            "text/plain": [
              "True"
            ]
          },
          "metadata": {},
          "execution_count": 9
        }
      ],
      "source": [
        "# Always True\n",
        "# total no. of items = (no. of rows * no. of cols)\n",
        "import math\n",
        "a.size == math.prod(a.shape)"
      ]
    },
    {
      "cell_type": "code",
      "execution_count": null,
      "metadata": {
        "colab": {
          "base_uri": "https://localhost:8080/"
        },
        "id": "_Lm55xwprBrE",
        "outputId": "bf11ce06-a68c-45db-bf35-49f4218f1309"
      },
      "outputs": [
        {
          "output_type": "stream",
          "name": "stdout",
          "text": [
            "0\n",
            "1\n"
          ]
        }
      ],
      "source": [
        "print(np.array(49).ndim)\n",
        "print(np.array([49]).ndim)"
      ]
    },
    {
      "cell_type": "markdown",
      "source": [
        "# 🧊 Conversion"
      ],
      "metadata": {
        "id": "aaL6OWlGLNDN"
      }
    },
    {
      "cell_type": "markdown",
      "source": [
        "### a.astype(in/float/bool)"
      ],
      "metadata": {
        "id": "o0krhpxLLNHR"
      }
    },
    {
      "cell_type": "code",
      "source": [
        "# No a.astype() does not modify the main array.\n",
        "# It always returns a new array (a copy) with the new data type."
      ],
      "metadata": {
        "id": "f3VHSfs9MGtM"
      },
      "execution_count": null,
      "outputs": []
    },
    {
      "cell_type": "code",
      "source": [
        "temp_float = np.array([33.3,34.7,34.6,43.2,45.09])\n",
        "print(temp_float.dtype)\n",
        "temp_int = temp_float.astype(int)\n",
        "print(temp_int.dtype)\n",
        "print(temp_int)"
      ],
      "metadata": {
        "colab": {
          "base_uri": "https://localhost:8080/"
        },
        "id": "TflijkUCLR4t",
        "outputId": "a16ccc16-bc17-4b1a-c444-cfc39c24cb42"
      },
      "execution_count": null,
      "outputs": [
        {
          "output_type": "stream",
          "name": "stdout",
          "text": [
            "float64\n",
            "int64\n",
            "[33 34 34 43 45]\n"
          ]
        }
      ]
    },
    {
      "cell_type": "markdown",
      "metadata": {
        "id": "Q1Dky9QMutr-"
      },
      "source": [
        "#  🧊 Creation of Basic Array"
      ]
    },
    {
      "cell_type": "markdown",
      "metadata": {
        "id": "qrtLNt2iwaK4"
      },
      "source": [
        "### np.zeros(), np.ones(), np.full(), np.empty(), np.arange(), np.linspace()"
      ]
    },
    {
      "cell_type": "code",
      "execution_count": null,
      "metadata": {
        "colab": {
          "base_uri": "https://localhost:8080/"
        },
        "id": "KxDs91GMuuut",
        "outputId": "783c9f25-3a0d-4f33-e5b9-e005c9b7b582"
      },
      "outputs": [
        {
          "output_type": "execute_result",
          "data": {
            "text/plain": [
              "array([0., 0., 0., 0., 0.])"
            ]
          },
          "metadata": {},
          "execution_count": 13
        }
      ],
      "source": [
        "np.zeros(5)"
      ]
    },
    {
      "cell_type": "code",
      "execution_count": null,
      "metadata": {
        "colab": {
          "base_uri": "https://localhost:8080/"
        },
        "id": "YUFRcY_fQqdA",
        "outputId": "472a32ce-02d4-4436-e016-40ff52ead45b"
      },
      "outputs": [
        {
          "output_type": "execute_result",
          "data": {
            "text/plain": [
              "array([0., 0., 0., 0., 0., 0., 0.])"
            ]
          },
          "metadata": {},
          "execution_count": 14
        }
      ],
      "source": [
        "np.zeros(7, dtype=float) # using dtype"
      ]
    },
    {
      "cell_type": "code",
      "execution_count": null,
      "metadata": {
        "colab": {
          "base_uri": "https://localhost:8080/"
        },
        "id": "qHdzn1LfwLeH",
        "outputId": "344a69f7-db24-42f9-f78d-ae5a7b7c62c4"
      },
      "outputs": [
        {
          "output_type": "execute_result",
          "data": {
            "text/plain": [
              "array([[[1., 1., 1., 1., 1.],\n",
              "        [1., 1., 1., 1., 1.],\n",
              "        [1., 1., 1., 1., 1.]],\n",
              "\n",
              "       [[1., 1., 1., 1., 1.],\n",
              "        [1., 1., 1., 1., 1.],\n",
              "        [1., 1., 1., 1., 1.]]])"
            ]
          },
          "metadata": {},
          "execution_count": 15
        }
      ],
      "source": [
        "np.ones((2,3,5))\n",
        "# np.zeros(2,3,5) 🚫"
      ]
    },
    {
      "cell_type": "code",
      "execution_count": null,
      "metadata": {
        "colab": {
          "base_uri": "https://localhost:8080/"
        },
        "id": "dGZLQRHAhnaD",
        "outputId": "428c5395-04ad-4192-fc8f-7870582fcb02"
      },
      "outputs": [
        {
          "output_type": "execute_result",
          "data": {
            "text/plain": [
              "array([[[[1., 1., 1.],\n",
              "         [1., 1., 1.],\n",
              "         [1., 1., 1.],\n",
              "         [1., 1., 1.],\n",
              "         [1., 1., 1.]],\n",
              "\n",
              "        [[1., 1., 1.],\n",
              "         [1., 1., 1.],\n",
              "         [1., 1., 1.],\n",
              "         [1., 1., 1.],\n",
              "         [1., 1., 1.]],\n",
              "\n",
              "        [[1., 1., 1.],\n",
              "         [1., 1., 1.],\n",
              "         [1., 1., 1.],\n",
              "         [1., 1., 1.],\n",
              "         [1., 1., 1.]],\n",
              "\n",
              "        [[1., 1., 1.],\n",
              "         [1., 1., 1.],\n",
              "         [1., 1., 1.],\n",
              "         [1., 1., 1.],\n",
              "         [1., 1., 1.]]],\n",
              "\n",
              "\n",
              "       [[[1., 1., 1.],\n",
              "         [1., 1., 1.],\n",
              "         [1., 1., 1.],\n",
              "         [1., 1., 1.],\n",
              "         [1., 1., 1.]],\n",
              "\n",
              "        [[1., 1., 1.],\n",
              "         [1., 1., 1.],\n",
              "         [1., 1., 1.],\n",
              "         [1., 1., 1.],\n",
              "         [1., 1., 1.]],\n",
              "\n",
              "        [[1., 1., 1.],\n",
              "         [1., 1., 1.],\n",
              "         [1., 1., 1.],\n",
              "         [1., 1., 1.],\n",
              "         [1., 1., 1.]],\n",
              "\n",
              "        [[1., 1., 1.],\n",
              "         [1., 1., 1.],\n",
              "         [1., 1., 1.],\n",
              "         [1., 1., 1.],\n",
              "         [1., 1., 1.]]]])"
            ]
          },
          "metadata": {},
          "execution_count": 16
        }
      ],
      "source": [
        "np.ones((2,4,5,3))"
      ]
    },
    {
      "cell_type": "code",
      "execution_count": null,
      "metadata": {
        "colab": {
          "base_uri": "https://localhost:8080/"
        },
        "id": "isZwxurvQ0GB",
        "outputId": "79da3994-cf24-4c67-fda3-07a459b1d071"
      },
      "outputs": [
        {
          "output_type": "execute_result",
          "data": {
            "text/plain": [
              "array([1., 1.])"
            ]
          },
          "metadata": {},
          "execution_count": 17
        }
      ],
      "source": [
        "np.ones(2, dtype=float) # using dtype"
      ]
    },
    {
      "cell_type": "markdown",
      "source": [
        "Specific value"
      ],
      "metadata": {
        "id": "sLJrKsIcIXcf"
      }
    },
    {
      "cell_type": "code",
      "source": [
        "np.full(4,7)"
      ],
      "metadata": {
        "colab": {
          "base_uri": "https://localhost:8080/"
        },
        "id": "L8tfelsrIXjl",
        "outputId": "4396e69f-9b53-4f67-f207-edce2ea1e591"
      },
      "execution_count": null,
      "outputs": [
        {
          "output_type": "execute_result",
          "data": {
            "text/plain": [
              "array([7, 7, 7, 7])"
            ]
          },
          "metadata": {},
          "execution_count": 18
        }
      ]
    },
    {
      "cell_type": "code",
      "source": [
        "np.full((3,3),7)"
      ],
      "metadata": {
        "colab": {
          "base_uri": "https://localhost:8080/"
        },
        "id": "RsPzVUT6IXqJ",
        "outputId": "cbefd971-45b5-41d2-eeef-2967ea581a99"
      },
      "execution_count": null,
      "outputs": [
        {
          "output_type": "execute_result",
          "data": {
            "text/plain": [
              "array([[7, 7, 7],\n",
              "       [7, 7, 7],\n",
              "       [7, 7, 7]])"
            ]
          },
          "metadata": {},
          "execution_count": 19
        }
      ]
    },
    {
      "cell_type": "code",
      "execution_count": null,
      "metadata": {
        "colab": {
          "base_uri": "https://localhost:8080/"
        },
        "id": "JcII4o75wLgv",
        "outputId": "0f10a871-5111-4b26-bb47-6e7b33aff511"
      },
      "outputs": [
        {
          "output_type": "execute_result",
          "data": {
            "text/plain": [
              "array([1., 1.])"
            ]
          },
          "metadata": {},
          "execution_count": 20
        }
      ],
      "source": [
        "# Create an empty array with garbage values(0/1/any other)\n",
        "np.empty(2)"
      ]
    },
    {
      "cell_type": "code",
      "execution_count": null,
      "metadata": {
        "colab": {
          "base_uri": "https://localhost:8080/"
        },
        "id": "2oA4Z2F5zadx",
        "outputId": "c3b309e8-f9fb-4d67-e9d9-9de35c28b4c0"
      },
      "outputs": [
        {
          "output_type": "execute_result",
          "data": {
            "text/plain": [
              "array([0., 0., 0., 0., 0.])"
            ]
          },
          "metadata": {},
          "execution_count": 21
        }
      ],
      "source": [
        "np.empty(5,dtype = float) # using (dtype)"
      ]
    },
    {
      "cell_type": "code",
      "execution_count": null,
      "metadata": {
        "colab": {
          "base_uri": "https://localhost:8080/"
        },
        "id": "2DFbiQnQwLjH",
        "outputId": "6ac70872-26dc-49b5-e545-fce38878a3c2"
      },
      "outputs": [
        {
          "output_type": "execute_result",
          "data": {
            "text/plain": [
              "array([0., 1., 2., 3., 4., 5.])"
            ]
          },
          "metadata": {},
          "execution_count": 22
        }
      ],
      "source": [
        "# Creates an array with **evenly spaced** values within a **given range**\n",
        "# np.arange(start, stop, step)\n",
        "np.arange(6, dtype = float) # dtype can be used or not"
      ]
    },
    {
      "cell_type": "code",
      "execution_count": null,
      "metadata": {
        "colab": {
          "base_uri": "https://localhost:8080/"
        },
        "id": "3GvVMlwOWfhr",
        "outputId": "6b27862f-dc36-4a6a-f789-9b5469e3abf1"
      },
      "outputs": [
        {
          "output_type": "execute_result",
          "data": {
            "text/plain": [
              "array([0, 1, 2, 3, 4, 5, 6])"
            ]
          },
          "metadata": {},
          "execution_count": 23
        }
      ],
      "source": [
        "np.arange(7) #  if 1 item 0 to (item-1)"
      ]
    },
    {
      "cell_type": "code",
      "execution_count": null,
      "metadata": {
        "colab": {
          "base_uri": "https://localhost:8080/"
        },
        "id": "bIi6N2f0WyoG",
        "outputId": "f5cdc1a9-3822-4fe2-8326-d9fe1f52d1a7"
      },
      "outputs": [
        {
          "output_type": "execute_result",
          "data": {
            "text/plain": [
              "array([2007, 2008, 2009, 2010, 2011, 2012, 2013, 2014, 2015, 2016, 2017,\n",
              "       2018, 2019, 2020, 2021, 2022, 2023, 2024])"
            ]
          },
          "metadata": {},
          "execution_count": 24
        }
      ],
      "source": [
        "np.arange(2007,2025) # if 2 items start to (stop-1)"
      ]
    },
    {
      "cell_type": "code",
      "execution_count": null,
      "metadata": {
        "colab": {
          "base_uri": "https://localhost:8080/"
        },
        "id": "wkJY4fr2wLlI",
        "outputId": "c68c4467-97a5-4b89-fc87-82d0104f747d"
      },
      "outputs": [
        {
          "output_type": "execute_result",
          "data": {
            "text/plain": [
              "array([ 5,  7,  9, 11, 13])"
            ]
          },
          "metadata": {},
          "execution_count": 25
        }
      ],
      "source": [
        "np.arange(5,15,2) # always exclude stop"
      ]
    },
    {
      "cell_type": "code",
      "execution_count": null,
      "metadata": {
        "id": "PGDdOyvq5O1K"
      },
      "outputs": [],
      "source": [
        "# np.linspace()\n",
        "# Creates array between a start and stop on basis of (how many items required)\n",
        "# diff = (last - first) / (k-1)\n",
        "# By default (np.linspace) returns values as float64\n",
        "# By default, the stop value(k) is included in the final array"
      ]
    },
    {
      "cell_type": "code",
      "execution_count": null,
      "metadata": {
        "id": "t0-2tn2rgZ2h"
      },
      "outputs": [],
      "source": [
        "# np.linspace(start, stop, num(k)=50, endpoint=True, retstep=False, dtype=None, axis=0)"
      ]
    },
    {
      "cell_type": "markdown",
      "metadata": {
        "id": "Vs4hoDU8dEZS"
      },
      "source": [
        "1 arg"
      ]
    },
    {
      "cell_type": "code",
      "execution_count": null,
      "metadata": {
        "id": "BXaIWPj-avU9"
      },
      "outputs": [],
      "source": [
        "# np.linspace(5)\n",
        "# Error 🚫"
      ]
    },
    {
      "cell_type": "markdown",
      "metadata": {
        "id": "xI1chi8cdGpV"
      },
      "source": [
        "2 args"
      ]
    },
    {
      "cell_type": "code",
      "execution_count": null,
      "metadata": {
        "colab": {
          "base_uri": "https://localhost:8080/"
        },
        "id": "p1msEVhlYqK4",
        "outputId": "d2f354b3-73d7-43a6-fa8f-8ce5bc21b05f"
      },
      "outputs": [
        {
          "output_type": "execute_result",
          "data": {
            "text/plain": [
              "array([ 49.,  51.,  53.,  55.,  57.,  59.,  61.,  63.,  65.,  67.,  69.,\n",
              "        71.,  73.,  75.,  77.,  79.,  81.,  83.,  85.,  87.,  89.,  91.,\n",
              "        93.,  95.,  97.,  99., 101., 103., 105., 107., 109., 111., 113.,\n",
              "       115., 117., 119., 121., 123., 125., 127., 129., 131., 133., 135.,\n",
              "       137., 139., 141., 143., 145., 147.])"
            ]
          },
          "metadata": {},
          "execution_count": 29
        }
      ],
      "source": [
        "np.linspace(49,147) # no explicitly step(k) provided, so default k = 50"
      ]
    },
    {
      "cell_type": "markdown",
      "metadata": {
        "id": "rCAOJwexdNrd"
      },
      "source": [
        "3 args"
      ]
    },
    {
      "cell_type": "code",
      "execution_count": null,
      "metadata": {
        "colab": {
          "base_uri": "https://localhost:8080/"
        },
        "id": "S5SOMQNRRzY0",
        "outputId": "02ed379b-cd85-40d5-c25b-13926081ba62"
      },
      "outputs": [
        {
          "output_type": "execute_result",
          "data": {
            "text/plain": [
              "array([ 5.        ,  6.66666667,  8.33333333, 10.        , 11.66666667,\n",
              "       13.33333333, 15.        ])"
            ]
          },
          "metadata": {},
          "execution_count": 30
        }
      ],
      "source": [
        "np.linspace(5,15,7)"
      ]
    },
    {
      "cell_type": "code",
      "execution_count": null,
      "metadata": {
        "colab": {
          "base_uri": "https://localhost:8080/"
        },
        "id": "wjfkGyODwLpX",
        "outputId": "263ec218-02e4-4428-ec10-a546a1b27c89"
      },
      "outputs": [
        {
          "output_type": "execute_result",
          "data": {
            "text/plain": [
              "array([0.  , 0.25, 0.5 , 0.75, 1.  ])"
            ]
          },
          "metadata": {},
          "execution_count": 31
        }
      ],
      "source": [
        "np.linspace(0,1,5)"
      ]
    },
    {
      "cell_type": "markdown",
      "metadata": {
        "id": "Qe4ulQgudRVm"
      },
      "source": [
        "4 args"
      ]
    },
    {
      "cell_type": "code",
      "execution_count": null,
      "metadata": {
        "colab": {
          "base_uri": "https://localhost:8080/"
        },
        "id": "OkpR7LTZXRhh",
        "outputId": "3e806666-fed0-46f5-c90a-0718c5a6d7f5"
      },
      "outputs": [
        {
          "output_type": "stream",
          "name": "stdout",
          "text": [
            "[ 2.  4.  6.  8. 10.]\n",
            "[2.  3.6 5.2 6.8 8.4]\n"
          ]
        }
      ],
      "source": [
        "# endpoint either True or False\n",
        "print(np.linspace(2, 10, 5, True))   # endpoint = True (include 10) [by default]\n",
        "print(np.linspace(2, 10, 5, False))  # endpoint = False (exclude 10)"
      ]
    },
    {
      "cell_type": "code",
      "execution_count": null,
      "metadata": {
        "colab": {
          "base_uri": "https://localhost:8080/"
        },
        "id": "Qfasa41WabQl",
        "outputId": "bbd54b3e-2fe5-4484-a0e3-155ccae239e6"
      },
      "outputs": [
        {
          "output_type": "stream",
          "name": "stdout",
          "text": [
            "[ 2.  4.  6.  8. 10.]\n"
          ]
        }
      ],
      "source": [
        "print(np.linspace(2, 10, 5, True))\n",
        "# Normal way\n",
        "# diff = (last - first) / (k-1)"
      ]
    },
    {
      "cell_type": "code",
      "execution_count": null,
      "metadata": {
        "colab": {
          "base_uri": "https://localhost:8080/"
        },
        "id": "382TE4wyablG",
        "outputId": "78444e24-2d2a-4bc3-ce37-14946ebf37e9"
      },
      "outputs": [
        {
          "output_type": "stream",
          "name": "stdout",
          "text": [
            "[2.  3.6 5.2 6.8 8.4]\n"
          ]
        }
      ],
      "source": [
        "print(np.linspace(2, 10, 5, False))\n",
        "# diff = (last - first) / (k)"
      ]
    },
    {
      "cell_type": "markdown",
      "metadata": {
        "id": "0JobQpGodXmJ"
      },
      "source": [
        "5 args"
      ]
    },
    {
      "cell_type": "code",
      "execution_count": null,
      "metadata": {
        "colab": {
          "base_uri": "https://localhost:8080/"
        },
        "id": "01K0TetXb-YK",
        "outputId": "b6afca55-0a65-42c9-e73e-43e62602b17b"
      },
      "outputs": [
        {
          "output_type": "execute_result",
          "data": {
            "text/plain": [
              "(array([0.  , 0.25, 0.5 , 0.75, 1.  ]), np.float64(0.25))"
            ]
          },
          "metadata": {},
          "execution_count": 35
        }
      ],
      "source": [
        "np.linspace(0, 1, 5, True, True) # returns (array, dtype(k))"
      ]
    },
    {
      "cell_type": "code",
      "execution_count": null,
      "metadata": {
        "colab": {
          "base_uri": "https://localhost:8080/"
        },
        "id": "Ghb6Ca3bcOjX",
        "outputId": "098c588f-395d-4e2f-e145-cc1338f1a499"
      },
      "outputs": [
        {
          "output_type": "execute_result",
          "data": {
            "text/plain": [
              "(array([0. , 0.2, 0.4, 0.6, 0.8]), np.float64(0.2))"
            ]
          },
          "metadata": {},
          "execution_count": 36
        }
      ],
      "source": [
        "np.linspace(0, 1, 5, False, True) # returns (array, dtype(k))"
      ]
    },
    {
      "cell_type": "code",
      "execution_count": null,
      "metadata": {
        "colab": {
          "base_uri": "https://localhost:8080/"
        },
        "id": "ekk_znV-eOqv",
        "outputId": "78618d67-d050-4f97-b448-a89ea7f897f4"
      },
      "outputs": [
        {
          "output_type": "execute_result",
          "data": {
            "text/plain": [
              "array([0.  , 0.25, 0.5 , 0.75, 1.  ])"
            ]
          },
          "metadata": {},
          "execution_count": 37
        }
      ],
      "source": [
        "np.linspace(0, 1, 5, True, False) # returns (array) as last is False"
      ]
    },
    {
      "cell_type": "code",
      "execution_count": null,
      "metadata": {
        "colab": {
          "base_uri": "https://localhost:8080/"
        },
        "id": "Oaj2JOHRekYF",
        "outputId": "d8cead3e-0834-4cec-ad12-5459b34266cc"
      },
      "outputs": [
        {
          "output_type": "execute_result",
          "data": {
            "text/plain": [
              "array([0. , 0.2, 0.4, 0.6, 0.8])"
            ]
          },
          "metadata": {},
          "execution_count": 38
        }
      ],
      "source": [
        "np.linspace(0, 1, 5, False, False)"
      ]
    },
    {
      "cell_type": "markdown",
      "metadata": {
        "id": "gd3Ir_8ffJ8e"
      },
      "source": [
        "6 args"
      ]
    },
    {
      "cell_type": "code",
      "execution_count": null,
      "metadata": {
        "colab": {
          "base_uri": "https://localhost:8080/"
        },
        "id": "rTHtAbDUfJGi",
        "outputId": "0b1b211c-9f59-46ef-e604-63f6fe3d5745"
      },
      "outputs": [
        {
          "output_type": "execute_result",
          "data": {
            "text/plain": [
              "array([ 0,  2,  5,  7, 10])"
            ]
          },
          "metadata": {},
          "execution_count": 39
        }
      ],
      "source": [
        "np.linspace(0, 10, 5, True, False, int)\n",
        "# if k is float ----converted----> into int"
      ]
    },
    {
      "cell_type": "markdown",
      "source": [
        "# 🧊 Adding"
      ],
      "metadata": {
        "id": "ydcydJPK6SSs"
      }
    },
    {
      "cell_type": "markdown",
      "source": [
        "### np.append(), np.insert(), np.concatenate()"
      ],
      "metadata": {
        "id": "6LZzFsxh6_hq"
      }
    },
    {
      "cell_type": "code",
      "source": [
        "# np.insert(arr, idx, item, axis=None/0/1)"
      ],
      "metadata": {
        "id": "gOMAI9B46XAy"
      },
      "execution_count": null,
      "outputs": []
    },
    {
      "cell_type": "code",
      "source": [
        "# does not change the original array\n",
        "# returns a new  modified array"
      ],
      "metadata": {
        "id": "pa7DTrME6XEF"
      },
      "execution_count": null,
      "outputs": []
    },
    {
      "cell_type": "code",
      "source": [
        "arr = np.array([1,2,3,4,5,6,7,8,9])\n",
        "new_arr = np.insert(arr, 5, 10) # insert 10 at 5\n",
        "print(\"Original Array:\",arr)\n",
        "print(\"Modified Array:\",new_arr)"
      ],
      "metadata": {
        "colab": {
          "base_uri": "https://localhost:8080/"
        },
        "id": "RcK6JsBq6YdK",
        "outputId": "4ba63957-ef65-499f-c1e7-b8264f0d553f"
      },
      "execution_count": null,
      "outputs": [
        {
          "output_type": "stream",
          "name": "stdout",
          "text": [
            "Original Array: [1 2 3 4 5 6 7 8 9]\n",
            "Modified Array: [ 1  2  3  4  5 10  6  7  8  9]\n"
          ]
        }
      ]
    },
    {
      "cell_type": "code",
      "source": [
        "# np.append(arr,item)"
      ],
      "metadata": {
        "id": "EAStnkVM6Yf1"
      },
      "execution_count": null,
      "outputs": []
    },
    {
      "cell_type": "code",
      "source": [
        "arr = np.array([1,2,3,4,5,6,7,8,9])\n",
        "new_arr = np.append(arr, 10) # insert always at end\n",
        "print(\"Original Array:\",arr)\n",
        "print(\"Modified Array:\",new_arr)"
      ],
      "metadata": {
        "colab": {
          "base_uri": "https://localhost:8080/"
        },
        "id": "Jbh9rPWU6rWi",
        "outputId": "09e7a53c-dda9-442a-adf0-b99fd2d35995"
      },
      "execution_count": null,
      "outputs": [
        {
          "output_type": "stream",
          "name": "stdout",
          "text": [
            "Original Array: [1 2 3 4 5 6 7 8 9]\n",
            "Modified Array: [ 1  2  3  4  5  6  7  8  9 10]\n"
          ]
        }
      ]
    },
    {
      "cell_type": "code",
      "source": [
        "# np.concatenate(arr,brr)"
      ],
      "metadata": {
        "id": "MLjZGDSp66wD"
      },
      "execution_count": null,
      "outputs": []
    },
    {
      "cell_type": "code",
      "source": [
        "arr = np.array([1,2,3,4,5,6,7,8,9])\n",
        "brr = np.array([10,20,30,40,50,60,70,80,90])\n",
        "np.concatenate((arr,brr))"
      ],
      "metadata": {
        "colab": {
          "base_uri": "https://localhost:8080/"
        },
        "id": "M811oGuY66y8",
        "outputId": "fd125951-f9d8-4158-9cf0-7e938506e821"
      },
      "execution_count": null,
      "outputs": [
        {
          "output_type": "execute_result",
          "data": {
            "text/plain": [
              "array([ 1,  2,  3,  4,  5,  6,  7,  8,  9, 10, 20, 30, 40, 50, 60, 70, 80,\n",
              "       90])"
            ]
          },
          "metadata": {},
          "execution_count": 46
        }
      ]
    },
    {
      "cell_type": "markdown",
      "source": [
        "# 🧊 Removing"
      ],
      "metadata": {
        "id": "c8j1oh8E6Zkp"
      }
    },
    {
      "cell_type": "markdown",
      "source": [
        "### np.delete()"
      ],
      "metadata": {
        "id": "U2nxxuKVGPfe"
      }
    },
    {
      "cell_type": "code",
      "source": [
        "# np.delete(arr, index, axis=None)"
      ],
      "metadata": {
        "id": "6cBGtBOx8FjT"
      },
      "execution_count": null,
      "outputs": []
    },
    {
      "cell_type": "code",
      "source": [
        "# does not change the original array\n",
        "# returns a new modified array"
      ],
      "metadata": {
        "id": "aN8flXJ68vRN"
      },
      "execution_count": null,
      "outputs": []
    },
    {
      "cell_type": "code",
      "source": [
        "arr = np.array([1,2,3,4,5,6,7,8,9])\n",
        "np.delete(arr,0)"
      ],
      "metadata": {
        "colab": {
          "base_uri": "https://localhost:8080/"
        },
        "id": "B6CAQkAA8Fso",
        "outputId": "744c82b0-9398-49c9-8005-698e2ccd0152"
      },
      "execution_count": null,
      "outputs": [
        {
          "output_type": "execute_result",
          "data": {
            "text/plain": [
              "array([2, 3, 4, 5, 6, 7, 8, 9])"
            ]
          },
          "metadata": {},
          "execution_count": 49
        }
      ]
    },
    {
      "cell_type": "markdown",
      "metadata": {
        "id": "PnDakk2SSmJk"
      },
      "source": [
        "# 🧊 Sorting"
      ]
    },
    {
      "cell_type": "markdown",
      "metadata": {
        "id": "L__xokiU5q5v"
      },
      "source": [
        "### np.sort() vs a.sort(), np.argsort(), np.lexsort(), np.searchsorted()\n"
      ]
    },
    {
      "cell_type": "markdown",
      "metadata": {
        "id": "5S6Fv1I0-Vdt"
      },
      "source": [
        "np.sort ( )"
      ]
    },
    {
      "cell_type": "code",
      "execution_count": null,
      "metadata": {
        "id": "L0OP76id5B3q"
      },
      "outputs": [],
      "source": [
        "# np.sort(a, axis=-1, kind=None, order=None, stable = None/True/False)"
      ]
    },
    {
      "cell_type": "code",
      "execution_count": null,
      "metadata": {
        "colab": {
          "base_uri": "https://localhost:8080/"
        },
        "id": "jRy9_1QC-vXU",
        "outputId": "72713d87-1de1-4aa0-932c-d8d474e0de65"
      },
      "outputs": [
        {
          "output_type": "stream",
          "name": "stdout",
          "text": [
            "<class 'numpy.ndarray'>\n"
          ]
        }
      ],
      "source": [
        "arr = np.array([2, 1, 5, 3, 7, 4, 6, 8])\n",
        "print(type(arr))"
      ]
    },
    {
      "cell_type": "code",
      "execution_count": null,
      "metadata": {
        "colab": {
          "base_uri": "https://localhost:8080/"
        },
        "id": "yBA11Qub-ZW8",
        "outputId": "dcc9f55b-3b28-4edc-e99a-26a8d2b3d1db"
      },
      "outputs": [
        {
          "output_type": "execute_result",
          "data": {
            "text/plain": [
              "array([1, 2, 3, 4, 5, 6, 7, 8])"
            ]
          },
          "metadata": {},
          "execution_count": 52
        }
      ],
      "source": [
        "# np.sort() does not change the original array\n",
        "np.sort(arr) # returns a new array(sorted)"
      ]
    },
    {
      "cell_type": "code",
      "execution_count": null,
      "metadata": {
        "id": "zo5o3KSJ5ltq"
      },
      "outputs": [],
      "source": [
        "arr_2D = np.array([[0,7,4],\n",
        "                   [8,3,1],\n",
        "                   [3,1,2]])"
      ]
    },
    {
      "cell_type": "code",
      "execution_count": null,
      "metadata": {
        "colab": {
          "base_uri": "https://localhost:8080/"
        },
        "id": "6uzNdpg2mcuu",
        "outputId": "70f50857-d4e3-4f64-cd97-586e3ccce4c8"
      },
      "outputs": [
        {
          "output_type": "execute_result",
          "data": {
            "text/plain": [
              "array([[0, 4, 7],\n",
              "       [1, 3, 8],\n",
              "       [1, 2, 3]])"
            ]
          },
          "metadata": {},
          "execution_count": 54
        }
      ],
      "source": [
        "# row wise sorting (default axis = -1)\n",
        "np.sort(arr_2D)"
      ]
    },
    {
      "cell_type": "code",
      "execution_count": null,
      "metadata": {
        "colab": {
          "base_uri": "https://localhost:8080/"
        },
        "id": "WN5VWmM_6cLk",
        "outputId": "eea068b4-299a-42a9-ff5e-54e211c0cfb2"
      },
      "outputs": [
        {
          "output_type": "execute_result",
          "data": {
            "text/plain": [
              "array([[0, 4, 7],\n",
              "       [1, 3, 8],\n",
              "       [1, 2, 3]])"
            ]
          },
          "metadata": {},
          "execution_count": 55
        }
      ],
      "source": [
        "np.sort(arr_2D, axis = 1) # row wise sorting for 2D Array"
      ]
    },
    {
      "cell_type": "code",
      "execution_count": null,
      "metadata": {
        "colab": {
          "base_uri": "https://localhost:8080/"
        },
        "id": "oUshUTTp6ZPi",
        "outputId": "8fcadbd7-3bb3-4743-9364-892c3fdf23c4"
      },
      "outputs": [
        {
          "output_type": "execute_result",
          "data": {
            "text/plain": [
              "array([[0, 1, 1],\n",
              "       [3, 3, 2],\n",
              "       [8, 7, 4]])"
            ]
          },
          "metadata": {},
          "execution_count": 56
        }
      ],
      "source": [
        "np.sort(arr_2D, axis = 0) # coloumn wise sorting"
      ]
    },
    {
      "cell_type": "code",
      "execution_count": null,
      "metadata": {
        "colab": {
          "base_uri": "https://localhost:8080/"
        },
        "id": "xEG-T6iImgyZ",
        "outputId": "14bc9e61-68e7-45b5-8755-143fa430e00d"
      },
      "outputs": [
        {
          "output_type": "execute_result",
          "data": {
            "text/plain": [
              "array([0, 1, 1, 2, 3, 3, 4, 7, 8])"
            ]
          },
          "metadata": {},
          "execution_count": 57
        }
      ],
      "source": [
        "np.sort(arr_2D, axis = None) # Sort as flattened array"
      ]
    },
    {
      "cell_type": "code",
      "execution_count": null,
      "metadata": {
        "colab": {
          "base_uri": "https://localhost:8080/"
        },
        "id": "zR1pRY9Q5CFM",
        "outputId": "26feb976-420e-4945-aead-46d437f8ccbd"
      },
      "outputs": [
        {
          "output_type": "execute_result",
          "data": {
            "text/plain": [
              "array([1, 2, 3, 4, 5, 6, 7, 8])"
            ]
          },
          "metadata": {},
          "execution_count": 58
        }
      ],
      "source": [
        "np.sort(arr,kind='mergesort') # kind = {‘quicksort’, ‘mergesort’, ‘heapsort’, ‘stable’}"
      ]
    },
    {
      "cell_type": "code",
      "execution_count": null,
      "metadata": {
        "id": "qu6Su8NPA17a"
      },
      "outputs": [],
      "source": [
        "a = np.array([5,3,1,4,2])\n",
        "#np.sort(arr, kind='quicksort', stable=True)\n",
        "# `kind` and `stable` parameters can't be provided 🚫\n",
        "# at the same time. Use only one of them."
      ]
    },
    {
      "cell_type": "markdown",
      "metadata": {
        "id": "Mm1S5jdA-kwS"
      },
      "source": [
        "arr.sort ( )"
      ]
    },
    {
      "cell_type": "code",
      "execution_count": null,
      "metadata": {
        "id": "JaY9kP4F_R5N"
      },
      "outputs": [],
      "source": [
        "# arr.sort(axis=-1, kind=None, order=None)"
      ]
    },
    {
      "cell_type": "code",
      "execution_count": null,
      "metadata": {
        "colab": {
          "base_uri": "https://localhost:8080/"
        },
        "id": "Zbc9frP8-qQU",
        "outputId": "64ea08e4-b2f2-4a98-c91e-169ba7ce56aa"
      },
      "outputs": [
        {
          "output_type": "stream",
          "name": "stdout",
          "text": [
            "[1 2 3 4 5 6 7 8]\n",
            "<class 'numpy.ndarray'>\n"
          ]
        }
      ],
      "source": [
        "arr.sort() # just soring happens in arr, not returning\n",
        "print(arr)\n",
        "print(type(arr))"
      ]
    },
    {
      "cell_type": "markdown",
      "metadata": {
        "id": "l_dVrol5tjbF"
      },
      "source": [
        "\n",
        "np.sort( ) vs array_name.sort( )"
      ]
    },
    {
      "cell_type": "code",
      "execution_count": null,
      "metadata": {
        "id": "MKtkpgnJtIF8",
        "colab": {
          "base_uri": "https://localhost:8080/"
        },
        "outputId": "2ea68492-85f8-450c-f1de-66c097b8046f"
      },
      "outputs": [
        {
          "output_type": "stream",
          "name": "stdout",
          "text": [
            "Before Sorting: [9 8 7 6 5 4 3 2 1]\n",
            "After Sorting: [1 2 3 4 5 6 7 8 9]\n"
          ]
        }
      ],
      "source": [
        "# np.sort(arr) : returns a new sorted array\n",
        "# arr.sort()   : sort the old array\n",
        "arr = np.array([9,8,7,6,5,4,3,2,1])\n",
        "print(\"Before Sorting:\",arr)\n",
        "arr.sort()\n",
        "print(\"After Sorting:\",arr)\n"
      ]
    },
    {
      "cell_type": "markdown",
      "metadata": {
        "id": "rjJHRl48qvZ4"
      },
      "source": [
        "np.argsort ( )"
      ]
    },
    {
      "cell_type": "code",
      "execution_count": null,
      "metadata": {
        "colab": {
          "base_uri": "https://localhost:8080/"
        },
        "id": "3PuQZi8ATmW6",
        "outputId": "f780061f-ebe8-4a0d-ec0b-3bf9e3528dbd"
      },
      "outputs": [
        {
          "output_type": "execute_result",
          "data": {
            "text/plain": [
              "array([0, 1, 2, 3, 4, 5, 6, 7, 8])"
            ]
          },
          "metadata": {},
          "execution_count": 63
        }
      ],
      "source": [
        "np.argsort(arr) # idx_sorted(10 20 30 40 50)\n",
        "# Use when you just need to sort a single array"
      ]
    },
    {
      "cell_type": "markdown",
      "metadata": {
        "id": "1OG9TTkPqrZk"
      },
      "source": [
        "np.lexsort ( )"
      ]
    },
    {
      "cell_type": "code",
      "execution_count": null,
      "metadata": {
        "id": "KBfaZh9fWUBZ"
      },
      "outputs": [],
      "source": [
        "# np.lexsort(key1,key2,key3) ==> “sort by the last key(3) first”\n",
        "# (Multiple keys) sorting techniue"
      ]
    },
    {
      "cell_type": "code",
      "execution_count": null,
      "metadata": {
        "colab": {
          "base_uri": "https://localhost:8080/"
        },
        "id": "mfJnc4wRTmhI",
        "outputId": "f5340c0e-d6f3-4332-af94-dae1f8be59cb"
      },
      "outputs": [
        {
          "output_type": "stream",
          "name": "stdout",
          "text": [
            "['HR' 'HR' 'HR' 'HR' 'IT' 'IT']\n",
            "[22 25 25 25 30 30]\n",
            "['Eve' 'Alice' 'Charlie' 'Frank' 'Bob' 'David']\n"
          ]
        }
      ],
      "source": [
        "names = np.array(['Alice', 'Bob', 'Charlie', 'David', 'Eve', 'Frank'])\n",
        "ages  = np.array([25,      30,    25,        30,      22,   25])\n",
        "depts = np.array(['HR',    'IT',  'HR',      'IT',    'HR', 'HR'])\n",
        "\n",
        "# Keys order: (name, age, dept)\n",
        "# Primary key = dept, Secondary = age, Tertiary = name\n",
        "\n",
        "idx = np.lexsort((names, ages, depts))\n",
        "print(depts[idx])\n",
        "print(ages[idx])\n",
        "print(names[idx])"
      ]
    },
    {
      "cell_type": "markdown",
      "metadata": {
        "id": "CcdamuDX410p"
      },
      "source": [
        "np.searchsorted ( )"
      ]
    },
    {
      "cell_type": "code",
      "execution_count": null,
      "metadata": {
        "id": "KwKj_K84Tmtj"
      },
      "outputs": [],
      "source": [
        "# array should be previously sorted"
      ]
    },
    {
      "cell_type": "code",
      "execution_count": null,
      "metadata": {
        "id": "aorXTOAj1QsU"
      },
      "outputs": [],
      "source": [
        "# it does not insert val\n",
        "# returns index where value to be inserted"
      ]
    },
    {
      "cell_type": "code",
      "execution_count": null,
      "metadata": {
        "id": "BDYMZylGwQYE"
      },
      "outputs": [],
      "source": [
        "# np.searchsorted(arr, val, side='left', sorted=...)"
      ]
    },
    {
      "cell_type": "code",
      "execution_count": null,
      "metadata": {
        "colab": {
          "base_uri": "https://localhost:8080/"
        },
        "id": "KiYreUZlq21l",
        "outputId": "0a9b7046-9600-4c3f-ae2e-487c4fb16aa6"
      },
      "outputs": [
        {
          "output_type": "execute_result",
          "data": {
            "text/plain": [
              "np.int64(3)"
            ]
          },
          "metadata": {},
          "execution_count": 69
        }
      ],
      "source": [
        "# single element\n",
        "arr = np.array([1, 3, 5, 7, 9])  # sorted array\n",
        "np.searchsorted(arr, 6)          # element 6 to be inserted at idx 3"
      ]
    },
    {
      "cell_type": "code",
      "execution_count": null,
      "metadata": {
        "colab": {
          "base_uri": "https://localhost:8080/"
        },
        "id": "rqhQoSVarazJ",
        "outputId": "60a1989f-65c0-4d0f-b0c1-a538c90e51ef"
      },
      "outputs": [
        {
          "output_type": "execute_result",
          "data": {
            "text/plain": [
              "array([0, 1, 2])"
            ]
          },
          "metadata": {},
          "execution_count": 70
        }
      ],
      "source": [
        "# Multiple elements\n",
        "arr = np.array([2,5,7])\n",
        "values = np.array([1,3,6]) # list / tuple / array\n",
        "np.searchsorted(arr, values) # always returns array"
      ]
    },
    {
      "cell_type": "code",
      "execution_count": null,
      "metadata": {
        "colab": {
          "base_uri": "https://localhost:8080/"
        },
        "id": "6ovhly8Lra3x",
        "outputId": "46ee003d-021d-4e50-be33-12055e4a897c"
      },
      "outputs": [
        {
          "output_type": "stream",
          "name": "stdout",
          "text": [
            "Sorter: [1 3 0 4 2]\n",
            "[2 3]\n"
          ]
        }
      ],
      "source": [
        "# if array is not sorted: can use argsort() & sorter keyword\n",
        "a = np.array([30, 10, 50, 20, 40])  # unsorted\n",
        "v = [25, 35]\n",
        "\n",
        "idx = np.argsort(a)\n",
        "print(\"Sorter:\", idx)   # [1 3 0 4 2] → positions for [10, 20, 30, 40, 50]\n",
        "\n",
        "# now searchsorted with 'sorter'\n",
        "op = np.searchsorted(a, v, sorter=idx)\n",
        "print(op)   # [2 3]"
      ]
    },
    {
      "cell_type": "code",
      "execution_count": null,
      "metadata": {
        "id": "NUxwLYLwzknc"
      },
      "outputs": [],
      "source": [
        "# \"left\" or \"right\" makes no difference when the value is absent"
      ]
    },
    {
      "cell_type": "code",
      "execution_count": null,
      "metadata": {
        "colab": {
          "base_uri": "https://localhost:8080/"
        },
        "id": "iWFEg87zzprr",
        "outputId": "70620c9f-4db7-4431-92c3-0c83e7b8c782"
      },
      "outputs": [
        {
          "output_type": "stream",
          "name": "stdout",
          "text": [
            "4\n",
            "4\n"
          ]
        }
      ],
      "source": [
        "a = np.array([10, 20, 40, 50, 60])\n",
        "print(np.searchsorted(a, 55, side='left'))   # 4\n",
        "print(np.searchsorted(a, 55, side='right'))  # 4"
      ]
    },
    {
      "cell_type": "code",
      "execution_count": null,
      "metadata": {
        "id": "gR8-Yqp209Kx"
      },
      "outputs": [],
      "source": [
        "# side = 'left'  → insert before the first occurrence of the value\n",
        "# side = 'right' → insert after the last occurrence of the value"
      ]
    },
    {
      "cell_type": "code",
      "execution_count": null,
      "metadata": {
        "colab": {
          "base_uri": "https://localhost:8080/"
        },
        "id": "4Pa2OsxrvvKr",
        "outputId": "3b3ea1cb-7bf9-4086-b980-88b5b7fec937"
      },
      "outputs": [
        {
          "output_type": "stream",
          "name": "stdout",
          "text": [
            "1\n",
            "3\n"
          ]
        }
      ],
      "source": [
        "a = np.array([10, 20, 20, 40, 50])\n",
        "print(np.searchsorted(a, 20, side='left'))  # 'left'  → before the last 20\n",
        "print(np.searchsorted(a, 20, side='right')) # 'right' → after the last 20"
      ]
    },
    {
      "cell_type": "markdown",
      "metadata": {
        "id": "IobFCD5Y5V7m"
      },
      "source": [
        "np.partition ( )"
      ]
    },
    {
      "cell_type": "markdown",
      "metadata": {
        "id": "ZMabT0O57maE"
      },
      "source": [
        "1. Finding the 'k' smallest or largest elements quickly"
      ]
    },
    {
      "cell_type": "code",
      "execution_count": null,
      "metadata": {
        "colab": {
          "base_uri": "https://localhost:8080/"
        },
        "id": "hdDLizyS5Ybh",
        "outputId": "7c9e153a-92c3-482e-c1f8-bfa288577e0f"
      },
      "outputs": [
        {
          "output_type": "stream",
          "name": "stdout",
          "text": [
            "[1 2 3]\n",
            "[5 6 7]\n"
          ]
        }
      ],
      "source": [
        "arr = np.array([7, 2, 5, 3, 1, 6, 4])\n",
        "\n",
        "# 3 smallest elements\n",
        "k_smallest = np.partition(arr, 3)[:3]\n",
        "print(k_smallest)  # e.g., [2 1 3]\n",
        "\n",
        "# 3 largest elements\n",
        "k_largest = np.partition(arr, -3)[-3:]\n",
        "print(k_largest)  # e.g., [7 5 6]"
      ]
    },
    {
      "cell_type": "markdown",
      "metadata": {
        "id": "Xsr_FGcN95qQ"
      },
      "source": [
        "2. Finding median (without sorting)"
      ]
    },
    {
      "cell_type": "code",
      "execution_count": null,
      "metadata": {
        "colab": {
          "base_uri": "https://localhost:8080/"
        },
        "id": "es8ASFyh8W7c",
        "outputId": "c6a2b5aa-cc46-44bf-abb2-ddac31452b3c"
      },
      "outputs": [
        {
          "output_type": "stream",
          "name": "stdout",
          "text": [
            "4\n"
          ]
        }
      ],
      "source": [
        "arr = np.array([7, 2, 5, 3, 1, 6, 4])\n",
        "n = len(arr)\n",
        "median = np.partition(arr, n//2)[n//2]\n",
        "print(median)  # 4"
      ]
    },
    {
      "cell_type": "markdown",
      "metadata": {
        "id": "CoHpa7LeByWf"
      },
      "source": [
        "3. Top-k selection in machine learning"
      ]
    },
    {
      "cell_type": "markdown",
      "metadata": {
        "id": "mGVYLTmK47AN"
      },
      "source": [
        "#🧊 Concatenate & Split"
      ]
    },
    {
      "cell_type": "markdown",
      "metadata": {
        "id": "9S_xyDoo58Hc"
      },
      "source": [
        "### np.concatenate(), np.array_split(), np.split(), np.hsplit(), np.vsplit()"
      ]
    },
    {
      "cell_type": "markdown",
      "metadata": {
        "id": "fL8CiQdvz37b"
      },
      "source": [
        "np.concatenate( )"
      ]
    },
    {
      "cell_type": "code",
      "execution_count": null,
      "metadata": {
        "colab": {
          "base_uri": "https://localhost:8080/"
        },
        "id": "FiDvrBUhzyhi",
        "outputId": "64ab6ae3-0c12-4c0b-8d2a-43f98025fea9"
      },
      "outputs": [
        {
          "output_type": "execute_result",
          "data": {
            "text/plain": [
              "array([1, 2, 3, 4, 5, 6, 7, 8])"
            ]
          },
          "metadata": {},
          "execution_count": 78
        }
      ],
      "source": [
        "a = np.array([1, 2, 3, 4])\n",
        "b = np.array([5, 6, 7, 8])\n",
        "np.concatenate((a, b))"
      ]
    },
    {
      "cell_type": "code",
      "execution_count": null,
      "metadata": {
        "colab": {
          "base_uri": "https://localhost:8080/"
        },
        "id": "IjB2DPBr1GNR",
        "outputId": "ce33932c-059a-4043-edae-2ff0a148f38b"
      },
      "outputs": [
        {
          "output_type": "stream",
          "name": "stdout",
          "text": [
            "[[1 2]\n",
            " [3 4]\n",
            " [5 6]]\n",
            "--------------------------------------\n",
            "[[1 2 5]\n",
            " [3 4 6]]\n",
            "--------------------------------------\n",
            "[1 2 3 4 5 6]\n"
          ]
        }
      ],
      "source": [
        "# Example 1: Default axis=0 (coloumn-wise)\n",
        "a = np.array([[1, 2],\n",
        "              [3, 4]])\n",
        "b = np.array([[5, 6]])\n",
        "print(np.concatenate((a, b), axis=0))\n",
        "# [[1 2],\n",
        "#  [3 4],\n",
        "#  [5 6]]\n",
        "print(\"--------------------------------------\")\n",
        "# Example 2: Concatenate row-wise (axis=1)\n",
        "a = np.array([[1, 2],\n",
        "              [3, 4]])\n",
        "b = np.array([[5],\n",
        "              [6]])\n",
        "print(np.concatenate((a, b), axis=1))\n",
        "# [[1 2 5]\n",
        "#  [3 4 6]]\n",
        "print(\"--------------------------------------\")\n",
        "# Example 3: axis=None (flatten + join)\n",
        "a = np.array([[1, 2], [3, 4]])\n",
        "b = np.array([5, 6])\n",
        "print(np.concatenate((a, b), axis=None))\n",
        "# [1 2 3 4 5 6]"
      ]
    },
    {
      "cell_type": "markdown",
      "metadata": {
        "id": "ZjlwjpteUa9H"
      },
      "source": [
        "np.array_split( )"
      ]
    },
    {
      "cell_type": "code",
      "execution_count": null,
      "metadata": {
        "colab": {
          "base_uri": "https://localhost:8080/"
        },
        "id": "D4buVXMBTaRo",
        "outputId": "cc845e3e-c709-455d-e241-ba34c221b2d5"
      },
      "outputs": [
        {
          "output_type": "execute_result",
          "data": {
            "text/plain": [
              "[array([0, 1, 2]), array([3, 4, 5]), array([6, 7])]"
            ]
          },
          "metadata": {},
          "execution_count": 80
        }
      ],
      "source": [
        "x = np.arange(8)\n",
        "# [0,1,2,3,4,5,6,7]\n",
        "# split into 3 equal parts\n",
        "np.array_split(x, 3)"
      ]
    },
    {
      "cell_type": "markdown",
      "metadata": {
        "id": "vAc8xo2aYIAN"
      },
      "source": [
        "np.split( )"
      ]
    },
    {
      "cell_type": "code",
      "execution_count": null,
      "metadata": {
        "colab": {
          "base_uri": "https://localhost:8080/"
        },
        "id": "qUljafzSYGyG",
        "outputId": "7f6dbf7f-d3b8-459d-b1ad-3a59eb072918"
      },
      "outputs": [
        {
          "output_type": "execute_result",
          "data": {
            "text/plain": [
              "[array([0, 1]), array([2, 3]), array([4, 5]), array([6, 7])]"
            ]
          },
          "metadata": {},
          "execution_count": 81
        }
      ],
      "source": [
        "arr = np.arange(8)\n",
        "np.split(arr, 4)\n",
        "# if array cannot be splitted evenly error will be shown"
      ]
    },
    {
      "cell_type": "code",
      "execution_count": null,
      "metadata": {
        "colab": {
          "base_uri": "https://localhost:8080/"
        },
        "id": "Degz54GVTaT_",
        "outputId": "0d88e5a2-c9fb-4009-c40c-af7d48f77c35"
      },
      "outputs": [
        {
          "output_type": "stream",
          "name": "stdout",
          "text": [
            "[array([1, 2]), array([4, 7]), array([5, 3])]\n",
            "[array([1, 2]), array([4, 7]), array([5, 3])]\n"
          ]
        }
      ],
      "source": [
        "arr = np.array([1,2,4,7,5,3])\n",
        "print(np.split(arr,3))\n",
        "print(np.hsplit(arr,3))"
      ]
    },
    {
      "cell_type": "code",
      "execution_count": null,
      "metadata": {
        "colab": {
          "base_uri": "https://localhost:8080/"
        },
        "id": "9co9oRGCTaYG",
        "outputId": "7e86eeb5-b9b2-4614-8468-e839e402422d"
      },
      "outputs": [
        {
          "output_type": "stream",
          "name": "stdout",
          "text": [
            "[array([[1, 2, 3, 4]]), array([[5, 6, 7, 8]])]\n",
            "-----------------------------------------------\n",
            "[array([[1],\n",
            "       [5]]), array([[2],\n",
            "       [6]]), array([[3],\n",
            "       [7]]), array([[4],\n",
            "       [8]])]\n"
          ]
        }
      ],
      "source": [
        "a = np.array([[1, 2, 3, 4],\n",
        "              [5, 6, 7, 8]])\n",
        "\n",
        "# Split into 2 along rows (axis=0)\n",
        "print(np.split(a, 2, axis=0))\n",
        "\n",
        "print(\"-----------------------------------------------\")\n",
        "\n",
        "# Split into 2 along columns (axis=1)\n",
        "print(np.split(a, 4, axis=1))"
      ]
    },
    {
      "cell_type": "markdown",
      "metadata": {
        "id": "J0sJP1hDequF"
      },
      "source": [
        "np.hsplit( )"
      ]
    },
    {
      "cell_type": "code",
      "execution_count": null,
      "metadata": {
        "id": "r1qhp6VMTaa_"
      },
      "outputs": [],
      "source": [
        "# Equivalent to np.split(a, x, axis=0)"
      ]
    },
    {
      "cell_type": "markdown",
      "metadata": {
        "id": "RNzptXbgfY_9"
      },
      "source": [
        "🔑 Key Difference\n",
        "\n",
        "1D Array:\n",
        "\n",
        "np.split(arr, x) → splits along axis=0 (the only axis available).\n",
        "\n",
        "np.hsplit(arr, x) → special case: since there’s no axis=1, it also falls back to axis=0.\n",
        "\n",
        "***>>> So they behave the same in 1D arrays***\n",
        "\n",
        "2D Arrays:\n",
        "\n",
        "np.split( ) → Flexible, you can choose axis=0 (rows) or axis=1 (columns).\n",
        "\n",
        "np.hsplit( ) → Fixed: only splits along columns (axis=1)."
      ]
    },
    {
      "cell_type": "code",
      "execution_count": null,
      "metadata": {
        "colab": {
          "base_uri": "https://localhost:8080/"
        },
        "id": "5nZsEdvXTaea",
        "outputId": "2a277fe4-4f22-4f36-ef54-d541ac9494ad"
      },
      "outputs": [
        {
          "output_type": "stream",
          "name": "stdout",
          "text": [
            "[[ 0  1  2  3]\n",
            " [ 4  5  6  7]\n",
            " [ 8  9 10 11]]\n",
            "[array([[0, 1],\n",
            "       [4, 5],\n",
            "       [8, 9]]), array([[ 2,  3],\n",
            "       [ 6,  7],\n",
            "       [10, 11]])]\n"
          ]
        }
      ],
      "source": [
        "arr = np.arange(12).reshape(3, 4)\n",
        "print(arr)\n",
        "# [[ 0  1  2  3]\n",
        "#  [ 4  5  6  7]\n",
        "#  [ 8  9 10 11]]\n",
        "\n",
        "print(np.hsplit(arr, 2))\n",
        "# same as np.split(arr, 2, axis=0)"
      ]
    },
    {
      "cell_type": "markdown",
      "metadata": {
        "id": "ArS1V15bhunl"
      },
      "source": [
        "np.vsplit( )"
      ]
    },
    {
      "cell_type": "code",
      "execution_count": null,
      "metadata": {
        "colab": {
          "base_uri": "https://localhost:8080/"
        },
        "id": "7j52ZrNaTajx",
        "outputId": "358bdf04-401a-4871-b894-618fb4566260"
      },
      "outputs": [
        {
          "output_type": "stream",
          "name": "stdout",
          "text": [
            "[array([[0, 1, 2, 3]]), array([[4, 5, 6, 7]]), array([[ 8,  9, 10, 11]]), array([[12, 13, 14, 15]])]\n",
            "[array([[0, 1, 2, 3]]), array([[4, 5, 6, 7]]), array([[ 8,  9, 10, 11]]), array([[12, 13, 14, 15]])]\n",
            "[array([[ 0],\n",
            "       [ 4],\n",
            "       [ 8],\n",
            "       [12]]), array([[ 1],\n",
            "       [ 5],\n",
            "       [ 9],\n",
            "       [13]]), array([[ 2],\n",
            "       [ 6],\n",
            "       [10],\n",
            "       [14]]), array([[ 3],\n",
            "       [ 7],\n",
            "       [11],\n",
            "       [15]])]\n"
          ]
        }
      ],
      "source": [
        "arr = np.arange(16).reshape(4, 4)\n",
        "# [[ 0  1  2  3]\n",
        "#  [ 4  5  6  7]\n",
        "#  [ 8  9 10 11]\n",
        "#  [12 13 14 15]]\n",
        "print(np.split(arr,4))\n",
        "print(np.split(arr,4,axis=0))  # vsplit() in 2D array\n",
        "print(np.split(arr,4,axis=1))  # hsplit() in 2D array"
      ]
    },
    {
      "cell_type": "code",
      "execution_count": null,
      "metadata": {
        "colab": {
          "base_uri": "https://localhost:8080/"
        },
        "id": "7eSnTARNTam3",
        "outputId": "9cc55e1f-9679-47ce-e3a0-371714fe9a93"
      },
      "outputs": [
        {
          "output_type": "execute_result",
          "data": {
            "text/plain": [
              "array([1, 2, 3, 4, 5, 6, 2, 0, 4])"
            ]
          },
          "metadata": {},
          "execution_count": 87
        }
      ],
      "source": [
        "c = np.array(([1,2,3],\n",
        "              [4,5,6],\n",
        "              [2,0,4]))\n",
        "np.concatenate(c,axis=None)"
      ]
    },
    {
      "cell_type": "markdown",
      "metadata": {
        "id": "NHExxZIK4OEl"
      },
      "source": [
        "#🧊 Reshape an Array"
      ]
    },
    {
      "cell_type": "markdown",
      "source": [
        "### np.reshape()"
      ],
      "metadata": {
        "id": "JwpS_-sz-nZ1"
      }
    },
    {
      "cell_type": "code",
      "execution_count": null,
      "metadata": {
        "colab": {
          "base_uri": "https://localhost:8080/"
        },
        "id": "itwy9pja5JaV",
        "outputId": "af72a80c-c0e6-4f96-c9e5-f49e86bdc637"
      },
      "outputs": [
        {
          "output_type": "stream",
          "name": "stdout",
          "text": [
            "[[ 0  1  2  3]\n",
            " [ 4  5  6  7]\n",
            " [ 8  9 10 11]\n",
            " [12 13 14 15]]\n"
          ]
        }
      ],
      "source": [
        "arr = np.arange(16)\n",
        "print(np.reshape(arr,(4,4)))"
      ]
    },
    {
      "cell_type": "code",
      "execution_count": null,
      "metadata": {
        "colab": {
          "base_uri": "https://localhost:8080/"
        },
        "id": "_FKJe-9h4TX2",
        "outputId": "f1685552-9bf3-4e70-8030-49c68ef24733"
      },
      "outputs": [
        {
          "output_type": "stream",
          "name": "stdout",
          "text": [
            "Original: [ 0  1  2  3  4  5  6  7  8  9 10 11]\n",
            "Reshaped (3x4):\n",
            " [[ 0  1  2  3]\n",
            " [ 4  5  6  7]\n",
            " [ 8  9 10 11]]\n"
          ]
        }
      ],
      "source": [
        "array_1D = np.arange(12)    # [0 1 2 3 4 5 6 7 8 9 10 11]\n",
        "array_2D = np.reshape(array_1D, (3, 4)) # (row,col)\n",
        "print(\"Original:\", array_1D)\n",
        "print(\"Reshaped (3x4):\\n\", array_2D)"
      ]
    },
    {
      "cell_type": "code",
      "execution_count": null,
      "metadata": {
        "id": "un5MkDHF4ign",
        "colab": {
          "base_uri": "https://localhost:8080/"
        },
        "outputId": "1c05d12b-a2ae-4660-9324-ac4062ddcb65"
      },
      "outputs": [
        {
          "output_type": "stream",
          "name": "stdout",
          "text": [
            "Original: [ 0  1  2  3  4  5  6  7  8  9 10 11]\n",
            "\n",
            "Reshaped (3x4) with order='C':\n",
            " [[ 0  1  2  3]\n",
            " [ 4  5  6  7]\n",
            " [ 8  9 10 11]]\n"
          ]
        }
      ],
      "source": [
        "arr = np.arange(12)\n",
        "# Row Major Representation\n",
        "new_arr = np.reshape(arr, (3, 4), order='C')\n",
        "print(\"Original:\", arr)\n",
        "print(\"\\nReshaped (3x4) with order='C':\\n\", new_arr)"
      ]
    },
    {
      "cell_type": "code",
      "source": [
        "arr = np.arange(12)\n",
        "# Column Major Representation\n",
        "new_arr = np.reshape(arr, (3, 4), order='F')\n",
        "print(\"Original:\", arr)\n",
        "print(\"\\nReshaped (3x4) with order='F':\\n\", new_arr)"
      ],
      "metadata": {
        "colab": {
          "base_uri": "https://localhost:8080/"
        },
        "id": "JVlV8UQB-h7W",
        "outputId": "9a377b63-68e0-4f2d-b4d8-36fc65c82ad0"
      },
      "execution_count": null,
      "outputs": [
        {
          "output_type": "stream",
          "name": "stdout",
          "text": [
            "Original: [ 0  1  2  3  4  5  6  7  8  9 10 11]\n",
            "\n",
            "Reshaped (3x4) with order='F':\n",
            " [[ 0  3  6  9]\n",
            " [ 1  4  7 10]\n",
            " [ 2  5  8 11]]\n"
          ]
        }
      ]
    },
    {
      "cell_type": "markdown",
      "source": [
        "# 🧊 Indexing and Slicing"
      ],
      "metadata": {
        "id": "BIUSNytR--8d"
      }
    },
    {
      "cell_type": "markdown",
      "source": [
        "### [ : : -1 ]"
      ],
      "metadata": {
        "id": "YxYKi0pGBuXs"
      }
    },
    {
      "cell_type": "code",
      "source": [
        "# index and slice NumPy arrays as same as Python lists"
      ],
      "metadata": {
        "id": "obP29-T4_BA4"
      },
      "execution_count": null,
      "outputs": []
    },
    {
      "cell_type": "code",
      "source": [
        "data = np.array([0,1,2,3,4,5,6,7,8,9])\n",
        "print(data[1])\n",
        "print(data[0:9]) # skip last\n",
        "print(data[0:10])\n",
        "print(data[::-1])"
      ],
      "metadata": {
        "colab": {
          "base_uri": "https://localhost:8080/"
        },
        "id": "yVYqWCOT_VKF",
        "outputId": "f612df2d-b04d-4de5-a581-15fa633b3d40"
      },
      "execution_count": null,
      "outputs": [
        {
          "output_type": "stream",
          "name": "stdout",
          "text": [
            "1\n",
            "[0 1 2 3 4 5 6 7 8]\n",
            "[0 1 2 3 4 5 6 7 8 9]\n",
            "[9 8 7 6 5 4 3 2 1 0]\n"
          ]
        }
      ]
    },
    {
      "cell_type": "markdown",
      "source": [
        "# 🧊 Boolean Masking ~ Filterring Data"
      ],
      "metadata": {
        "id": "FPdXv7UhRwC-"
      }
    },
    {
      "cell_type": "markdown",
      "source": [
        "### arr[arr>x]"
      ],
      "metadata": {
        "id": "xNNTNgchy6Jo"
      }
    },
    {
      "cell_type": "code",
      "source": [
        "marks = np.array([90,91,92,93,94,95,96,97,98,99,100])\n",
        "marks[marks>95]"
      ],
      "metadata": {
        "colab": {
          "base_uri": "https://localhost:8080/"
        },
        "id": "M4WYYnsrRsVS",
        "outputId": "968eac81-c244-4f46-891c-12baf417dc8c"
      },
      "execution_count": null,
      "outputs": [
        {
          "output_type": "execute_result",
          "data": {
            "text/plain": [
              "array([ 96,  97,  98,  99, 100])"
            ]
          },
          "metadata": {},
          "execution_count": 94
        }
      ]
    },
    {
      "cell_type": "markdown",
      "source": [
        "# 🧊 Reverse an Array"
      ],
      "metadata": {
        "id": "tJ1ZIgtVgikE"
      }
    },
    {
      "cell_type": "markdown",
      "source": [
        "### np.flip( )"
      ],
      "metadata": {
        "id": "chQWumP_hoc3"
      }
    },
    {
      "cell_type": "code",
      "source": [
        "arr = np.array([1,2,3,4,5,6,7,8,9])\n",
        "np.flip(arr)"
      ],
      "metadata": {
        "colab": {
          "base_uri": "https://localhost:8080/"
        },
        "id": "6fEsV7HBgrpE",
        "outputId": "9ff1bed4-d9d9-49ad-efa7-8f548872b43c"
      },
      "execution_count": null,
      "outputs": [
        {
          "output_type": "execute_result",
          "data": {
            "text/plain": [
              "array([9, 8, 7, 6, 5, 4, 3, 2, 1])"
            ]
          },
          "metadata": {},
          "execution_count": 95
        }
      ]
    },
    {
      "cell_type": "markdown",
      "source": [
        "#  🧊 Non-Zero Operations"
      ],
      "metadata": {
        "id": "E1ngFRswBiV-"
      }
    },
    {
      "cell_type": "markdown",
      "source": [
        "### np.nonzero(), np.count_nonzero()"
      ],
      "metadata": {
        "id": "so3Y1Xu0CLZR"
      }
    },
    {
      "cell_type": "markdown",
      "source": [
        "np.nonzero()"
      ],
      "metadata": {
        "id": "1lcq_lLaDbAt"
      }
    },
    {
      "cell_type": "code",
      "source": [
        "# Return the *indexes* of the elements that are non-zero"
      ],
      "metadata": {
        "id": "XnHsolP7DXo1"
      },
      "execution_count": null,
      "outputs": []
    },
    {
      "cell_type": "code",
      "source": [
        "arr = np.array([1,2,0,5,0,0,1,0,5])\n",
        "print(np.nonzero(arr))\n",
        "idx = np.nonzero(arr)\n",
        "print(arr[idx])"
      ],
      "metadata": {
        "colab": {
          "base_uri": "https://localhost:8080/"
        },
        "id": "d_ovvRwL_vVe",
        "outputId": "cb9ac475-3b9e-4111-ff8c-144813356d3b"
      },
      "execution_count": null,
      "outputs": [
        {
          "output_type": "stream",
          "name": "stdout",
          "text": [
            "(array([0, 1, 3, 6, 8]),)\n",
            "[1 2 5 1 5]\n"
          ]
        }
      ]
    },
    {
      "cell_type": "code",
      "source": [
        "np.count_nonzero(arr) == len(arr[np.nonzero(arr)])"
      ],
      "metadata": {
        "colab": {
          "base_uri": "https://localhost:8080/"
        },
        "id": "7t9c5_zqCszD",
        "outputId": "9a5c4177-4551-4afb-d197-4757a0abd6e5"
      },
      "execution_count": null,
      "outputs": [
        {
          "output_type": "execute_result",
          "data": {
            "text/plain": [
              "True"
            ]
          },
          "metadata": {},
          "execution_count": 98
        }
      ]
    },
    {
      "cell_type": "markdown",
      "source": [
        "# 🧊 Shallow Copy VS Deep Copy"
      ],
      "metadata": {
        "id": "wu_-N8eNEcNk"
      }
    },
    {
      "cell_type": "markdown",
      "source": [
        "### a.view() vs a.copy()"
      ],
      "metadata": {
        "id": "BMaGxYAPGyPV"
      }
    },
    {
      "cell_type": "code",
      "source": [
        "# Shallow Copy\n",
        "a = np.array([1,2,3,4,5])\n",
        "view_arr = a.view()\n",
        "view_arr[0]=69\n",
        "print(\"Original Array:\",a)\n",
        "print(\"Copied Array:\",view_arr)"
      ],
      "metadata": {
        "colab": {
          "base_uri": "https://localhost:8080/"
        },
        "id": "Q4N3Z1vsPzlb",
        "outputId": "e5e908ba-0ee8-45df-e1bb-dd9638728ecc"
      },
      "execution_count": null,
      "outputs": [
        {
          "output_type": "stream",
          "name": "stdout",
          "text": [
            "Original Array: [69  2  3  4  5]\n",
            "Copied Array: [69  2  3  4  5]\n"
          ]
        }
      ]
    },
    {
      "cell_type": "code",
      "source": [
        "# Deep Copy\n",
        "a = np.array([1,2,3,4,5])\n",
        "copy_arr = a.copy()\n",
        "copy_arr[0]=69\n",
        "print(\"Original Array:\",a)\n",
        "print(\"Copied Array:\",copy_arr)"
      ],
      "metadata": {
        "colab": {
          "base_uri": "https://localhost:8080/"
        },
        "id": "zOAnnwkDQDOF",
        "outputId": "21cea283-2e07-4648-b62f-650eb91884e6"
      },
      "execution_count": null,
      "outputs": [
        {
          "output_type": "stream",
          "name": "stdout",
          "text": [
            "Original Array: [1 2 3 4 5]\n",
            "Copied Array: [69  2  3  4  5]\n"
          ]
        }
      ]
    },
    {
      "cell_type": "markdown",
      "source": [
        "# 🧊 Basic Operations on Array"
      ],
      "metadata": {
        "id": "Okwl3MQ7JGo0"
      }
    },
    {
      "cell_type": "markdown",
      "source": [
        "### np.max(). np.min(), np.argmax(), np.argmin(), np.sum(), np.mean(), np.std(), np.var()"
      ],
      "metadata": {
        "id": "7XQfQb9BHGHB"
      }
    },
    {
      "cell_type": "code",
      "source": [
        "arr = np.array([1,-5,6,9,7,10,-2,5,6])\n",
        "print(np.max(arr))\n",
        "print(np.min(arr))\n",
        "\n",
        "print(np.argmax(arr)) # returns index of the maximum value in an array\n",
        "print(np.argmin(arr)) # returns index of the minimum value in an array\n",
        "\n",
        "print(np.sum(arr))\n",
        "print(np.mean(arr))\n",
        "print(np.std(arr))\n",
        "print(np.var(arr))"
      ],
      "metadata": {
        "colab": {
          "base_uri": "https://localhost:8080/"
        },
        "id": "oMe8joonNlbV",
        "outputId": "9a675a95-f16b-46bc-d13f-c41a9483dbe7"
      },
      "execution_count": null,
      "outputs": [
        {
          "output_type": "stream",
          "name": "stdout",
          "text": [
            "10\n",
            "-5\n",
            "5\n",
            "1\n",
            "37\n",
            "4.111111111111111\n",
            "4.771313456351975\n",
            "22.765432098765434\n"
          ]
        }
      ]
    },
    {
      "cell_type": "markdown",
      "source": [
        "Sum"
      ],
      "metadata": {
        "id": "D5pC2PkdJcs4"
      }
    },
    {
      "cell_type": "code",
      "source": [
        "a = np.array([14,8,5,6])\n",
        "b = np.array([2,4,5,1])\n",
        "print(a+b,type(a+b))\n",
        "print(a-b)\n",
        "print(a*b)\n",
        "print(a/b)\n",
        "print(b**2)"
      ],
      "metadata": {
        "colab": {
          "base_uri": "https://localhost:8080/"
        },
        "id": "UddNP5ieJc0k",
        "outputId": "70637f04-e738-459f-fd4e-467df2f93a53"
      },
      "execution_count": null,
      "outputs": [
        {
          "output_type": "stream",
          "name": "stdout",
          "text": [
            "[16 12 10  7] <class 'numpy.ndarray'>\n",
            "[12  4  0  5]\n",
            "[28 32 25  6]\n",
            "[7. 2. 1. 6.]\n",
            "[ 4 16 25  1]\n"
          ]
        }
      ]
    },
    {
      "cell_type": "code",
      "source": [
        "a.sum()"
      ],
      "metadata": {
        "colab": {
          "base_uri": "https://localhost:8080/"
        },
        "id": "FZJuh1syJdfm",
        "outputId": "417d326e-8fb0-4255-9dce-d03452e8197a"
      },
      "execution_count": null,
      "outputs": [
        {
          "output_type": "execute_result",
          "data": {
            "text/plain": [
              "np.int64(33)"
            ]
          },
          "metadata": {},
          "execution_count": 103
        }
      ]
    },
    {
      "cell_type": "markdown",
      "source": [
        "2D Array"
      ],
      "metadata": {
        "id": "PS6MksMWMkSM"
      }
    },
    {
      "cell_type": "code",
      "source": [
        "arr = np.array([[1, 2, 3],\n",
        "                [4, 5, 6]])\n",
        "\n",
        "print(\"Original Array:\\n\", arr)\n",
        "\n",
        "# Column-wise sum (axis=0)\n",
        "print(\"Column-wise sum (axis=0):\", np.sum(arr, axis=0))\n",
        "\n",
        "# Row-wise sum (axis=1)\n",
        "print(\"Row-wise sum  (axis=1):\", np.sum(arr, axis=1))\n"
      ],
      "metadata": {
        "colab": {
          "base_uri": "https://localhost:8080/"
        },
        "id": "MV1JlLiPKkRH",
        "outputId": "77f96d9e-d3c3-46ed-b739-d82727f7e33e"
      },
      "execution_count": null,
      "outputs": [
        {
          "output_type": "stream",
          "name": "stdout",
          "text": [
            "Original Array:\n",
            " [[1 2 3]\n",
            " [4 5 6]]\n",
            "Column-wise sum (axis=0): [5 7 9]\n",
            "Row-wise sum  (axis=1): [ 6 15]\n"
          ]
        }
      ]
    },
    {
      "cell_type": "markdown",
      "source": [
        "Multiplication"
      ],
      "metadata": {
        "id": "Vfq7U-VvJGt1"
      }
    },
    {
      "cell_type": "code",
      "source": [
        "A = np.array([[1, 1],\n",
        "              [0, 1]])\n",
        "B = np.array([[2, 0],\n",
        "              [3, 4]])\n",
        "print(A * B)     # elementwise product\n",
        "print(\"----------\")\n",
        "print(A @ B)     # matrix product\n",
        "print(\"----------\")\n",
        "print(A.dot(B))  # another matrix product"
      ],
      "metadata": {
        "colab": {
          "base_uri": "https://localhost:8080/"
        },
        "id": "dZsBapi0Jb7t",
        "outputId": "21917243-8cc3-4d69-fb6e-8e69d71d68fc"
      },
      "execution_count": null,
      "outputs": [
        {
          "output_type": "stream",
          "name": "stdout",
          "text": [
            "[[2 0]\n",
            " [0 4]]\n",
            "----------\n",
            "[[5 4]\n",
            " [3 4]]\n",
            "----------\n",
            "[[5 4]\n",
            " [3 4]]\n"
          ]
        }
      ]
    },
    {
      "cell_type": "code",
      "source": [
        "temp = np.array([33.0,34.5,32.1,33,1,40.54])\n",
        "np.mean(temp)"
      ],
      "metadata": {
        "colab": {
          "base_uri": "https://localhost:8080/"
        },
        "id": "2VPwkRAvGumS",
        "outputId": "d05a393a-4ade-4653-d4b8-4a72eb63196c"
      },
      "execution_count": null,
      "outputs": [
        {
          "output_type": "execute_result",
          "data": {
            "text/plain": [
              "np.float64(29.02333333333333)"
            ]
          },
          "metadata": {},
          "execution_count": 106
        }
      ]
    },
    {
      "cell_type": "markdown",
      "source": [
        "# 🧊 Generating random numbers"
      ],
      "metadata": {
        "id": "uKB-fSJbRG3L"
      }
    },
    {
      "cell_type": "markdown",
      "source": [
        "### np.random.randint( )"
      ],
      "metadata": {
        "id": "4w4A6nZ3SRjE"
      }
    },
    {
      "cell_type": "code",
      "source": [
        "# Random float between 0 and 1\n",
        "print(np.random.rand())\n",
        "\n",
        "# Random array of floats between 0 and 1 (4x3 Matrix)\n",
        "print(np.random.rand(4,3))\n",
        "\n",
        "# Random integer between 1 and 100\n",
        "print(np.random.randint(1, 100))\n",
        "\n",
        "# Random 'integer array' between 1 and 100\n",
        "print(np.random.randint(1, 100, size=5))\n",
        "\n",
        "# Random 'integer matrix' between 1 and 100\n",
        "np.random.randint(1,100, size=(6,4))"
      ],
      "metadata": {
        "colab": {
          "base_uri": "https://localhost:8080/"
        },
        "id": "vGUsv6FeRIk2",
        "outputId": "54bf828b-b4a0-457b-f702-fef01255fa8e"
      },
      "execution_count": null,
      "outputs": [
        {
          "output_type": "stream",
          "name": "stdout",
          "text": [
            "0.180878464762804\n",
            "[[0.9270132  0.62738627 0.75559825]\n",
            " [0.4985546  0.3258639  0.39705632]\n",
            " [0.04395865 0.57806952 0.88863141]\n",
            " [0.12145852 0.63191476 0.5929283 ]]\n",
            "87\n",
            "[28 55 14 11 28]\n"
          ]
        },
        {
          "output_type": "execute_result",
          "data": {
            "text/plain": [
              "array([[ 2, 99, 64, 86],\n",
              "       [79, 83, 95, 15],\n",
              "       [27, 28, 51, 16],\n",
              "       [93, 74,  3, 91],\n",
              "       [68, 88, 12, 55],\n",
              "       [70, 59,  6, 28]])"
            ]
          },
          "metadata": {},
          "execution_count": 107
        }
      ]
    },
    {
      "cell_type": "markdown",
      "source": [
        "# 🧊 Unique Values"
      ],
      "metadata": {
        "id": "rafvb4gtTEjw"
      }
    },
    {
      "cell_type": "markdown",
      "source": [
        "### np.unique( )"
      ],
      "metadata": {
        "id": "deILgl-3yi-I"
      }
    },
    {
      "cell_type": "code",
      "source": [
        "# Returns an array of unique values"
      ],
      "metadata": {
        "id": "COAkKWtKWOiF"
      },
      "execution_count": null,
      "outputs": []
    },
    {
      "cell_type": "code",
      "source": [
        "a = np.array([1,1,2,2,2,3,3,3,4,4,4,5,5,6,7])\n",
        "print(np.unique(a))"
      ],
      "metadata": {
        "colab": {
          "base_uri": "https://localhost:8080/"
        },
        "id": "T-Yr0m8UTFIl",
        "outputId": "a9fe36c3-0e6d-45fd-ea51-b2ecaacef460"
      },
      "execution_count": null,
      "outputs": [
        {
          "output_type": "stream",
          "name": "stdout",
          "text": [
            "[1 2 3 4 5 6 7]\n"
          ]
        }
      ]
    },
    {
      "cell_type": "code",
      "source": [
        "# To return indexes of unique values\n",
        "# return_index = True"
      ],
      "metadata": {
        "id": "SwbzdNatWbdO"
      },
      "execution_count": null,
      "outputs": []
    },
    {
      "cell_type": "code",
      "source": [
        "_,indices_list = np.unique(a, return_index=True)\n",
        "# In Python _, means “I don’t care about this value”\n",
        "print(indices_list)"
      ],
      "metadata": {
        "colab": {
          "base_uri": "https://localhost:8080/"
        },
        "id": "QQxQQdneWglb",
        "outputId": "499cc729-99c6-4675-b0a2-b67fd5229825"
      },
      "execution_count": null,
      "outputs": [
        {
          "output_type": "stream",
          "name": "stdout",
          "text": [
            "[ 0  2  5  8 11 13 14]\n"
          ]
        }
      ]
    },
    {
      "cell_type": "code",
      "source": [
        "# To return counts\n",
        "# return_counts=True"
      ],
      "metadata": {
        "id": "Ico_6ZUcXrD8"
      },
      "execution_count": null,
      "outputs": []
    },
    {
      "cell_type": "code",
      "source": [
        "_,occurrence_count = np.unique(a, return_counts=True)\n",
        "print(occurrence_count)"
      ],
      "metadata": {
        "colab": {
          "base_uri": "https://localhost:8080/"
        },
        "id": "CxrmT5jXYFE2",
        "outputId": "f7a261fd-c5fd-4151-d74a-2866b284143b"
      },
      "execution_count": null,
      "outputs": [
        {
          "output_type": "stream",
          "name": "stdout",
          "text": [
            "[2 3 3 3 2 1 1]\n"
          ]
        }
      ]
    },
    {
      "cell_type": "markdown",
      "source": [
        "# 🧊 Handling Missing Values"
      ],
      "metadata": {
        "id": "VeURoWmtCbxU"
      }
    },
    {
      "cell_type": "markdown",
      "source": [
        "### np.isnan(), np.isinf(), np.nan_to_num(arr,nan = x), np.nan_to_num(arr,posinf = 999, neginf = -999)"
      ],
      "metadata": {
        "id": "SrZQKLIYMrfG"
      }
    },
    {
      "cell_type": "code",
      "source": [
        "# np.isnan() returns boolean array\n",
        "arr = np.array([1,np.nan,3,4,np.nan])\n",
        "np.isnan(arr)"
      ],
      "metadata": {
        "colab": {
          "base_uri": "https://localhost:8080/"
        },
        "id": "eipJ-K7cK8eg",
        "outputId": "f8d7c39d-fd6e-4948-d418-d28d1501c587"
      },
      "execution_count": null,
      "outputs": [
        {
          "output_type": "execute_result",
          "data": {
            "text/plain": [
              "array([False,  True, False, False,  True])"
            ]
          },
          "metadata": {},
          "execution_count": 114
        }
      ]
    },
    {
      "cell_type": "code",
      "source": [
        "arr = np.array([1,np.nan,3,4,np.nan])\n",
        "new_arr = np.nan_to_num(arr) # by default 0\n",
        "print(new_arr)\n",
        "new_arr = np.nan_to_num(arr,nan=69)\n",
        "print(new_arr)"
      ],
      "metadata": {
        "colab": {
          "base_uri": "https://localhost:8080/"
        },
        "id": "6y0V-5mpLLJy",
        "outputId": "22200600-b5b7-4769-e50d-c8b50258b53c"
      },
      "execution_count": null,
      "outputs": [
        {
          "output_type": "stream",
          "name": "stdout",
          "text": [
            "[1. 0. 3. 4. 0.]\n",
            "[ 1. 69.  3.  4. 69.]\n"
          ]
        }
      ]
    },
    {
      "cell_type": "code",
      "source": [
        "arr = np.array([-1, 5, 3, np.inf, 0, 1, -np.inf])\n",
        "np.isinf(arr)"
      ],
      "metadata": {
        "colab": {
          "base_uri": "https://localhost:8080/"
        },
        "id": "yZWrAG-gLd10",
        "outputId": "df586a0d-43ad-46ae-db59-beda6a7ba429"
      },
      "execution_count": null,
      "outputs": [
        {
          "output_type": "execute_result",
          "data": {
            "text/plain": [
              "array([False, False, False,  True, False, False,  True])"
            ]
          },
          "metadata": {},
          "execution_count": 116
        }
      ]
    },
    {
      "cell_type": "code",
      "source": [
        "arr = np.array([-1, 5, 3, np.inf, 0, 1, -np.inf])\n",
        "new_arr = np.nan_to_num(arr,posinf=9999,neginf=-9999)\n",
        "print(new_arr)"
      ],
      "metadata": {
        "colab": {
          "base_uri": "https://localhost:8080/"
        },
        "id": "rsmi_rfNMLRw",
        "outputId": "e7230957-3a55-4357-a3c6-be7d51de016b"
      },
      "execution_count": null,
      "outputs": [
        {
          "output_type": "stream",
          "name": "stdout",
          "text": [
            "[-1.000e+00  5.000e+00  3.000e+00  9.999e+03  0.000e+00  1.000e+00\n",
            " -9.999e+03]\n"
          ]
        }
      ]
    }
  ],
  "metadata": {
    "colab": {
      "provenance": []
    },
    "kernelspec": {
      "display_name": "Python 3",
      "name": "python3"
    },
    "language_info": {
      "name": "python"
    }
  },
  "nbformat": 4,
  "nbformat_minor": 0
}