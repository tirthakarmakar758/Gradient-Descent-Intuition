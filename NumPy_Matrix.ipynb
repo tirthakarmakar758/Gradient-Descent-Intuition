{
  "cells": [
    {
      "cell_type": "code",
      "execution_count": null,
      "metadata": {
        "id": "cxPtNYraYhhn"
      },
      "outputs": [],
      "source": [
        "import numpy as np"
      ]
    },
    {
      "cell_type": "code",
      "execution_count": null,
      "metadata": {
        "id": "dT2go5QYZbzc"
      },
      "outputs": [],
      "source": [
        "matrix = np.array(([1,2,4,7],\n",
        "                   [1,0,1,0],\n",
        "                   [3,5,6,7],\n",
        "                   [1,9,4,7]))"
      ]
    },
    {
      "cell_type": "markdown",
      "source": [
        "# 🧊 1D Array to 2D Array"
      ],
      "metadata": {
        "id": "L6IvX_j2BQSV"
      }
    },
    {
      "cell_type": "markdown",
      "source": [
        "# np.reshape()"
      ],
      "metadata": {
        "id": "9FS9E12rF_-2"
      }
    },
    {
      "cell_type": "code",
      "source": [
        "arr = np.array([1,2,3,4,5,6,7,8,9])\n",
        "np.reshape(arr,(3,3))"
      ],
      "metadata": {
        "colab": {
          "base_uri": "https://localhost:8080/"
        },
        "id": "_jpACCArBVQh",
        "outputId": "9b8dd5d3-3385-4458-dbbe-a7872a6459ae"
      },
      "execution_count": null,
      "outputs": [
        {
          "output_type": "execute_result",
          "data": {
            "text/plain": [
              "array([[1, 2, 3],\n",
              "       [4, 5, 6],\n",
              "       [7, 8, 9]])"
            ]
          },
          "metadata": {},
          "execution_count": 3
        }
      ]
    },
    {
      "cell_type": "markdown",
      "source": [
        "# 🧊 Multiple 1D Array to single 2D Array"
      ],
      "metadata": {
        "id": "jBHQ3R7_F3jQ"
      }
    },
    {
      "cell_type": "markdown",
      "source": [
        "# np.vstack()"
      ],
      "metadata": {
        "id": "zst5ODA-GFsf"
      }
    },
    {
      "cell_type": "code",
      "source": [
        "arr = np.array([1,2,3])\n",
        "brr = np.array([4,5,6])\n",
        "crr = np.array([7,8,9])\n",
        "np.vstack((arr,brr,crr))"
      ],
      "metadata": {
        "colab": {
          "base_uri": "https://localhost:8080/"
        },
        "id": "7Q7FPuW7F4hQ",
        "outputId": "e35ff393-de90-4a0c-b5e5-6d8fb6b607f1"
      },
      "execution_count": null,
      "outputs": [
        {
          "output_type": "execute_result",
          "data": {
            "text/plain": [
              "array([[1, 2, 3],\n",
              "       [4, 5, 6],\n",
              "       [7, 8, 9]])"
            ]
          },
          "metadata": {},
          "execution_count": 4
        }
      ]
    },
    {
      "cell_type": "markdown",
      "metadata": {
        "id": "CCp1lYUydkg5"
      },
      "source": [
        "# 🧊 2D Array to 1D Array"
      ]
    },
    {
      "cell_type": "markdown",
      "source": [
        "### np.flatten( ), np.ravel( ), np.concatenate( ), np.hstack()"
      ],
      "metadata": {
        "id": "A4YSC0YCFu_8"
      }
    },
    {
      "cell_type": "code",
      "execution_count": null,
      "metadata": {
        "colab": {
          "base_uri": "https://localhost:8080/"
        },
        "id": "HlaDtpYQZzdd",
        "outputId": "f5d9a9a2-c726-4423-9dcf-c62431bfc17c"
      },
      "outputs": [
        {
          "output_type": "execute_result",
          "data": {
            "text/plain": [
              "array([1, 2, 4, 7, 1, 0, 1, 0, 3, 5, 6, 7, 1, 9, 4, 7])"
            ]
          },
          "metadata": {},
          "execution_count": 5
        }
      ],
      "source": [
        "# 2D Array to 1D Array\n",
        "matrix.flatten() # shallow copy ~ No manipulation effect"
      ]
    },
    {
      "cell_type": "code",
      "execution_count": null,
      "metadata": {
        "colab": {
          "base_uri": "https://localhost:8080/"
        },
        "id": "AvGA5rQiZ9ch",
        "outputId": "cc5cb66c-0200-4c17-d927-a9e431906b4e"
      },
      "outputs": [
        {
          "output_type": "execute_result",
          "data": {
            "text/plain": [
              "array([1, 2, 4, 7, 1, 0, 1, 0, 3, 5, 6, 7, 1, 9, 4, 7])"
            ]
          },
          "metadata": {},
          "execution_count": 6
        }
      ],
      "source": [
        "# 2D Array to 1D Array\n",
        "matrix.ravel() # deep copy ~  manipulation effects"
      ]
    },
    {
      "cell_type": "code",
      "execution_count": null,
      "metadata": {
        "colab": {
          "base_uri": "https://localhost:8080/"
        },
        "id": "AuDQBfC7amhh",
        "outputId": "bf2cc700-de56-491e-a9d1-12eb4c46631f"
      },
      "outputs": [
        {
          "output_type": "stream",
          "name": "stdout",
          "text": [
            "[1 2 4 7 1 0 1 0 3 5 6 7 1 9 4 7]\n",
            "[1 2 4 7 1 0 1 0 3 5 6 7 1 9 4 7]\n",
            "-----------------------\n",
            "[999   2   4   7   1   0   1   0   3   5   6   7   1   9   4   7]\n",
            "[[1 2 4 7]\n",
            " [1 0 1 0]\n",
            " [3 5 6 7]\n",
            " [1 9 4 7]]\n",
            "-----------------------\n",
            "[99  2  4  7  1  0  1  0  3  5  6  7  1  9  4  7]\n",
            "[[99  2  4  7]\n",
            " [ 1  0  1  0]\n",
            " [ 3  5  6  7]\n",
            " [ 1  9  4  7]]\n"
          ]
        }
      ],
      "source": [
        "matrix = np.array(([1,2,4,7],\n",
        "                   [1,0,1,0],\n",
        "                   [3,5,6,7],\n",
        "                   [1,9,4,7]))\n",
        "rvl = matrix.ravel()\n",
        "flat = matrix.flatten()\n",
        "print(rvl)\n",
        "print(flat)\n",
        "print(\"-----------------------\")\n",
        "flat[0]=999\n",
        "print(flat)\n",
        "print(matrix) # No change in Original Matrix\n",
        "print(\"-----------------------\")\n",
        "rvl[0]=99\n",
        "print(rvl)\n",
        "print(matrix)"
      ]
    },
    {
      "cell_type": "code",
      "execution_count": null,
      "metadata": {
        "colab": {
          "base_uri": "https://localhost:8080/"
        },
        "id": "3S6bu2v2byLV",
        "outputId": "3a17a71c-f44e-446b-aad5-2dcdcaa923b1"
      },
      "outputs": [
        {
          "output_type": "execute_result",
          "data": {
            "text/plain": [
              "array([99,  2,  4,  7,  1,  0,  1,  0,  3,  5,  6,  7,  1,  9,  4,  7])"
            ]
          },
          "metadata": {},
          "execution_count": 8
        }
      ],
      "source": [
        "# 2D Array to 1D\n",
        "np.concatenate(matrix,axis=None)"
      ]
    },
    {
      "cell_type": "code",
      "source": [
        "arr = np.array([1,2,3])\n",
        "brr = np.array([4,5,6])\n",
        "np.hstack((arr,brr)) # np.concatenate(arr,brr,axis=None)"
      ],
      "metadata": {
        "colab": {
          "base_uri": "https://localhost:8080/"
        },
        "id": "72ZzyNWNA6hQ",
        "outputId": "35f6c05c-4618-46c2-ac5c-0d3c70e11a20"
      },
      "execution_count": null,
      "outputs": [
        {
          "output_type": "execute_result",
          "data": {
            "text/plain": [
              "array([1, 2, 3, 4, 5, 6])"
            ]
          },
          "metadata": {},
          "execution_count": 9
        }
      ]
    },
    {
      "cell_type": "markdown",
      "source": [
        "# 🧊 Splitting"
      ],
      "metadata": {
        "id": "RjPNOTomGkRL"
      }
    },
    {
      "cell_type": "markdown",
      "source": [
        "### np.split()"
      ],
      "metadata": {
        "id": "aRyDLKeLHGG5"
      }
    },
    {
      "cell_type": "code",
      "source": [
        "a = np.array([[1,2,3,4],\n",
        "              [5,6,7,8],\n",
        "              [0,9,7,1],\n",
        "              [1,0,5,4]])\n",
        "# Split into 2 along rows (axis=0)\n",
        "print(np.split(a, 2, axis=0))\n",
        "print(\"-----------------------------------------------\")\n",
        "# Split into 2 along columns (axis=1)\n",
        "print(np.split(a, 2, axis=1))"
      ],
      "metadata": {
        "colab": {
          "base_uri": "https://localhost:8080/"
        },
        "id": "NVo2HEgtGnnT",
        "outputId": "88bc70a0-b24b-4ef5-c1ab-a14d9cd1cb3e"
      },
      "execution_count": null,
      "outputs": [
        {
          "output_type": "stream",
          "name": "stdout",
          "text": [
            "[array([[1, 2, 3, 4],\n",
            "       [5, 6, 7, 8]]), array([[0, 9, 7, 1],\n",
            "       [1, 0, 5, 4]])]\n",
            "-----------------------------------------------\n",
            "[array([[1, 2],\n",
            "       [5, 6],\n",
            "       [0, 9],\n",
            "       [1, 0]]), array([[3, 4],\n",
            "       [7, 8],\n",
            "       [7, 1],\n",
            "       [5, 4]])]\n"
          ]
        }
      ]
    },
    {
      "cell_type": "markdown",
      "source": [
        "# 🧊 No. of rows & cols of a matrix"
      ],
      "metadata": {
        "id": "-QGHyfnQtoBh"
      }
    },
    {
      "cell_type": "markdown",
      "source": [
        "# matrix.size"
      ],
      "metadata": {
        "id": "9ZbIztB2x8K0"
      }
    },
    {
      "cell_type": "code",
      "source": [
        "matrix = np.array(([1,2,4,7],\n",
        "                   [1,0,1,0],\n",
        "                   [3,5,6,7],\n",
        "                   [1,9,4,7]))\n",
        "matrix.shape"
      ],
      "metadata": {
        "colab": {
          "base_uri": "https://localhost:8080/"
        },
        "id": "z_CvxFNTtoR-",
        "outputId": "675cbd81-3aa6-4b56-a66d-722b452e06ad"
      },
      "execution_count": null,
      "outputs": [
        {
          "output_type": "execute_result",
          "data": {
            "text/plain": [
              "(4, 4)"
            ]
          },
          "metadata": {},
          "execution_count": 11
        }
      ]
    },
    {
      "cell_type": "markdown",
      "source": [
        "# 🧊 Inserting Items"
      ],
      "metadata": {
        "id": "iRB6RGq71__B"
      }
    },
    {
      "cell_type": "markdown",
      "source": [
        "### np.insert()"
      ],
      "metadata": {
        "id": "fUMk-wd0AXnC"
      }
    },
    {
      "cell_type": "code",
      "source": [
        "# Row wise insertion\n",
        "matrix = np.array(([1,2,4,7],\n",
        "                   [1,0,1,0],\n",
        "                   [3,5,6,7],\n",
        "                   [1,9,4,7]))\n",
        "np.insert(matrix, 1, [99,69,89,59], axis=0)"
      ],
      "metadata": {
        "colab": {
          "base_uri": "https://localhost:8080/"
        },
        "id": "mWMWRm0l2GOH",
        "outputId": "b4685f1d-c6cb-4711-9c75-3291f73b8066"
      },
      "execution_count": null,
      "outputs": [
        {
          "output_type": "execute_result",
          "data": {
            "text/plain": [
              "array([[ 1,  2,  4,  7],\n",
              "       [99, 69, 89, 59],\n",
              "       [ 1,  0,  1,  0],\n",
              "       [ 3,  5,  6,  7],\n",
              "       [ 1,  9,  4,  7]])"
            ]
          },
          "metadata": {},
          "execution_count": 12
        }
      ]
    },
    {
      "cell_type": "code",
      "source": [
        "# Columnn wise insertion\n",
        "matrix = np.array(([1,2,4,7],\n",
        "                   [1,0,1,0],\n",
        "                   [3,5,6,7],\n",
        "                   [1,9,4,7]))\n",
        "np.insert(matrix, 1, [99,69,89,59], axis=1)"
      ],
      "metadata": {
        "colab": {
          "base_uri": "https://localhost:8080/"
        },
        "id": "7co-fDqr2ANq",
        "outputId": "207d9244-3784-4833-ea15-4ac254d0f047"
      },
      "execution_count": null,
      "outputs": [
        {
          "output_type": "execute_result",
          "data": {
            "text/plain": [
              "array([[ 1, 99,  2,  4,  7],\n",
              "       [ 1, 69,  0,  1,  0],\n",
              "       [ 3, 89,  5,  6,  7],\n",
              "       [ 1, 59,  9,  4,  7]])"
            ]
          },
          "metadata": {},
          "execution_count": 13
        }
      ]
    },
    {
      "cell_type": "markdown",
      "source": [
        "# 🧊 Deleteing Items"
      ],
      "metadata": {
        "id": "jzfXM50R3vGV"
      }
    },
    {
      "cell_type": "markdown",
      "source": [
        "### np.delete()"
      ],
      "metadata": {
        "id": "gfUK4hxJAa35"
      }
    },
    {
      "cell_type": "code",
      "source": [
        "# Row wise deleteion\n",
        "matrix = np.array(([1,2,4,7],\n",
        "                   [1,0,1,0],\n",
        "                   [3,5,6,7],\n",
        "                   [1,9,4,7]))\n",
        "new_matrix = np.delete(matrix, 0, axis=0)\n",
        "print(new_matrix)"
      ],
      "metadata": {
        "colab": {
          "base_uri": "https://localhost:8080/"
        },
        "id": "TAGIQNi2_g20",
        "outputId": "edb33382-a33e-4dd1-ace5-84da25dd98dc"
      },
      "execution_count": null,
      "outputs": [
        {
          "output_type": "stream",
          "name": "stdout",
          "text": [
            "[[1 0 1 0]\n",
            " [3 5 6 7]\n",
            " [1 9 4 7]]\n"
          ]
        }
      ]
    },
    {
      "cell_type": "code",
      "source": [
        "# Coloumn wise deleteion\n",
        "matrix = np.array(([1,2,4,7],\n",
        "                   [1,0,1,0],\n",
        "                   [3,5,6,7],\n",
        "                   [1,9,4,7]))\n",
        "new_matrix = np.delete(matrix, 0, axis=1)\n",
        "print(new_matrix)"
      ],
      "metadata": {
        "colab": {
          "base_uri": "https://localhost:8080/"
        },
        "id": "7lbGDFZO_g_K",
        "outputId": "9712c57a-477d-49aa-de08-ead941c832e8"
      },
      "execution_count": null,
      "outputs": [
        {
          "output_type": "stream",
          "name": "stdout",
          "text": [
            "[[2 4 7]\n",
            " [0 1 0]\n",
            " [5 6 7]\n",
            " [9 4 7]]\n"
          ]
        }
      ]
    },
    {
      "cell_type": "code",
      "source": [],
      "metadata": {
        "id": "rd9jyTlm_hG2"
      },
      "execution_count": null,
      "outputs": []
    },
    {
      "cell_type": "markdown",
      "metadata": {
        "id": "o2NMLYQCeQTb"
      },
      "source": [
        "# 🧊 Matrix Reshape"
      ]
    },
    {
      "cell_type": "markdown",
      "source": [
        "### np.reshape( )"
      ],
      "metadata": {
        "id": "QqiftnY-FqCq"
      }
    },
    {
      "cell_type": "code",
      "execution_count": null,
      "metadata": {
        "colab": {
          "base_uri": "https://localhost:8080/"
        },
        "id": "djX5LRWKCzpW",
        "outputId": "27c43f48-a959-4a32-b0c4-788025391532"
      },
      "outputs": [
        {
          "output_type": "execute_result",
          "data": {
            "text/plain": [
              "array([[1, 2, 3],\n",
              "       [4, 5, 6],\n",
              "       [7, 8, 9]])"
            ]
          },
          "metadata": {},
          "execution_count": 16
        }
      ],
      "source": [
        "matrix = np.array([1,2,3,4,5,6,7,8,9])\n",
        "np.reshape(matrix,(3,3))"
      ]
    },
    {
      "cell_type": "markdown",
      "metadata": {
        "id": "YhXPLlTked5y"
      },
      "source": [
        "# 🧊 Transpose"
      ]
    },
    {
      "cell_type": "markdown",
      "metadata": {
        "id": "anl4Lmqsf3l6"
      },
      "source": [
        "### np.transpose(matrix) or, matrix.transpose( ), matrix.T"
      ]
    },
    {
      "cell_type": "code",
      "execution_count": null,
      "metadata": {
        "id": "qLNkf58leUs_"
      },
      "outputs": [],
      "source": [
        "matrix = np.array(([1,2,4,7],\n",
        "                   [1,0,1,0],\n",
        "                   [3,5,6,7],\n",
        "                   [1,9,4,7]))"
      ]
    },
    {
      "cell_type": "code",
      "execution_count": null,
      "metadata": {
        "colab": {
          "base_uri": "https://localhost:8080/"
        },
        "id": "oq1Y4X8Sz3Mu",
        "outputId": "a97c96a0-488d-4332-c120-d91e86e10b20"
      },
      "outputs": [
        {
          "output_type": "execute_result",
          "data": {
            "text/plain": [
              "array([[1, 1, 3, 1],\n",
              "       [2, 0, 5, 9],\n",
              "       [4, 1, 6, 4],\n",
              "       [7, 0, 7, 7]])"
            ]
          },
          "metadata": {},
          "execution_count": 18
        }
      ],
      "source": [
        "np.transpose(matrix)"
      ]
    },
    {
      "cell_type": "code",
      "execution_count": null,
      "metadata": {
        "colab": {
          "base_uri": "https://localhost:8080/"
        },
        "id": "8_ndq1Xreita",
        "outputId": "5bc5efd3-54a0-4269-b393-86c4ed2224a3"
      },
      "outputs": [
        {
          "output_type": "execute_result",
          "data": {
            "text/plain": [
              "array([[1, 1, 3, 1],\n",
              "       [2, 0, 5, 9],\n",
              "       [4, 1, 6, 4],\n",
              "       [7, 0, 7, 7]])"
            ]
          },
          "metadata": {},
          "execution_count": 19
        }
      ],
      "source": [
        "matrix.transpose()"
      ]
    },
    {
      "cell_type": "code",
      "execution_count": null,
      "metadata": {
        "colab": {
          "base_uri": "https://localhost:8080/"
        },
        "id": "nVkNr8KSen0T",
        "outputId": "7c27ee8a-7326-4604-bcdd-b9ee772f35b5"
      },
      "outputs": [
        {
          "output_type": "execute_result",
          "data": {
            "text/plain": [
              "array([[1, 1, 3, 1],\n",
              "       [2, 0, 5, 9],\n",
              "       [4, 1, 6, 4],\n",
              "       [7, 0, 7, 7]])"
            ]
          },
          "metadata": {},
          "execution_count": 20
        }
      ],
      "source": [
        "matrix.T"
      ]
    },
    {
      "cell_type": "markdown",
      "source": [
        "# 🧊 Identity Matrix"
      ],
      "metadata": {
        "id": "UW6HWwBmI_e9"
      }
    },
    {
      "cell_type": "markdown",
      "source": [
        "### np.eye( )"
      ],
      "metadata": {
        "id": "HQh4Fcu2JO4M"
      }
    },
    {
      "cell_type": "code",
      "source": [
        "np.eye(5)"
      ],
      "metadata": {
        "colab": {
          "base_uri": "https://localhost:8080/"
        },
        "id": "ggm0ADhkJJtb",
        "outputId": "32a61336-4c2c-46fd-fd3f-7200a29506b2"
      },
      "execution_count": null,
      "outputs": [
        {
          "output_type": "execute_result",
          "data": {
            "text/plain": [
              "array([[1., 0., 0., 0., 0.],\n",
              "       [0., 1., 0., 0., 0.],\n",
              "       [0., 0., 1., 0., 0.],\n",
              "       [0., 0., 0., 1., 0.],\n",
              "       [0., 0., 0., 0., 1.]])"
            ]
          },
          "metadata": {},
          "execution_count": 21
        }
      ]
    },
    {
      "cell_type": "markdown",
      "metadata": {
        "id": "jJfnbmjlvTds"
      },
      "source": [
        "# 🧊 Matrix Reverse"
      ]
    },
    {
      "cell_type": "markdown",
      "metadata": {
        "id": "inHti4xtza-2"
      },
      "source": [
        "### np.flip( ), matrix[x]=np.flip(matrix[x]), matrix[:,x]=np.flip(matrix[:,x])"
      ]
    },
    {
      "cell_type": "code",
      "execution_count": null,
      "metadata": {
        "id": "u4wgC86ovju9"
      },
      "outputs": [],
      "source": [
        "matrix = np.array(([1,2,4,7],\n",
        "                   [1,0,1,0],\n",
        "                   [3,5,6,7],\n",
        "                   [1,9,4,7]))"
      ]
    },
    {
      "cell_type": "code",
      "execution_count": null,
      "metadata": {
        "colab": {
          "base_uri": "https://localhost:8080/"
        },
        "id": "0r67dxehwCdu",
        "outputId": "ef026c6f-8393-4138-f982-deabc04800e4"
      },
      "outputs": [
        {
          "output_type": "execute_result",
          "data": {
            "text/plain": [
              "array([[7, 4, 9, 1],\n",
              "       [7, 6, 5, 3],\n",
              "       [0, 1, 0, 1],\n",
              "       [7, 4, 2, 1]])"
            ]
          },
          "metadata": {},
          "execution_count": 23
        }
      ],
      "source": [
        "np.flip(matrix)"
      ]
    },
    {
      "cell_type": "code",
      "execution_count": null,
      "metadata": {
        "colab": {
          "base_uri": "https://localhost:8080/"
        },
        "id": "JA05lPkUwCga",
        "outputId": "73dc6d30-aa8b-4324-dbc3-c8ee05d9a24e"
      },
      "outputs": [
        {
          "output_type": "execute_result",
          "data": {
            "text/plain": [
              "array([[7, 4, 2, 1],\n",
              "       [0, 1, 0, 1],\n",
              "       [7, 6, 5, 3],\n",
              "       [7, 4, 9, 1]])"
            ]
          },
          "metadata": {},
          "execution_count": 24
        }
      ],
      "source": [
        "# Reverse row-wise\n",
        "np.flip(matrix, axis=1)"
      ]
    },
    {
      "cell_type": "code",
      "execution_count": null,
      "metadata": {
        "colab": {
          "base_uri": "https://localhost:8080/"
        },
        "id": "B-Qg_KHVwCkC",
        "outputId": "254b8964-7e38-41dc-cb4a-60acf9b6e371"
      },
      "outputs": [
        {
          "output_type": "execute_result",
          "data": {
            "text/plain": [
              "array([[1, 9, 4, 7],\n",
              "       [3, 5, 6, 7],\n",
              "       [1, 0, 1, 0],\n",
              "       [1, 2, 4, 7]])"
            ]
          },
          "metadata": {},
          "execution_count": 25
        }
      ],
      "source": [
        "# Reverse column-wise\n",
        "np.flip(matrix, axis=0)"
      ]
    },
    {
      "cell_type": "code",
      "execution_count": null,
      "metadata": {
        "colab": {
          "base_uri": "https://localhost:8080/"
        },
        "id": "oTsqZSnDy2W1",
        "outputId": "06841a90-3bab-45bf-c4da-da2345ed83ff"
      },
      "outputs": [
        {
          "output_type": "stream",
          "name": "stdout",
          "text": [
            "[[1 2 4 7]\n",
            " [1 0 1 0]\n",
            " [3 5 6 7]\n",
            " [7 4 9 1]]\n"
          ]
        }
      ],
      "source": [
        "# Reverse a particular row\n",
        "matrix = np.array(([1,2,4,7],\n",
        "                   [1,0,1,0],\n",
        "                   [3,5,6,7],\n",
        "                   [1,9,4,7]))\n",
        "matrix[3] = np.flip(matrix[3])\n",
        "print(matrix)"
      ]
    },
    {
      "cell_type": "code",
      "execution_count": null,
      "metadata": {
        "colab": {
          "base_uri": "https://localhost:8080/"
        },
        "id": "rR4PNUnh1nMv",
        "outputId": "9971a0e7-6766-49e3-c510-b386edad0b10"
      },
      "outputs": [
        {
          "output_type": "stream",
          "name": "stdout",
          "text": [
            "[[1 2 4 7]\n",
            " [1 0 6 0]\n",
            " [3 5 1 7]\n",
            " [1 9 4 7]]\n"
          ]
        }
      ],
      "source": [
        "# Reverse a particular column\n",
        "matrix = np.array(([1,2,4,7],\n",
        "                   [1,0,1,0],\n",
        "                   [3,5,6,7],\n",
        "                   [1,9,4,7]))\n",
        "matrix[:,2] = np.flip(matrix[:,2])\n",
        "print(matrix)"
      ]
    },
    {
      "cell_type": "markdown",
      "metadata": {
        "id": "JJNwpr7vx3er"
      },
      "source": [
        "# 🧊 Matrix Addition"
      ]
    },
    {
      "cell_type": "markdown",
      "metadata": {
        "id": "9x7LNMdwzkk-"
      },
      "source": [
        "### np.sum( )"
      ]
    },
    {
      "cell_type": "code",
      "execution_count": null,
      "metadata": {
        "colab": {
          "base_uri": "https://localhost:8080/"
        },
        "id": "Uc0E-Eujx8ax",
        "outputId": "30472a87-ba76-4dec-aed7-aee7d3d0000f"
      },
      "outputs": [
        {
          "output_type": "stream",
          "name": "stdout",
          "text": [
            "Original Array:\n",
            " [[1 2 3]\n",
            " [4 5 6]]\n",
            "Column-wise sum (axis=0): [5 7 9]\n",
            "Row-wise sum  (axis=1): [ 6 15]\n"
          ]
        }
      ],
      "source": [
        "arr = np.array([[1, 2, 3],\n",
        "                [4, 5, 6]])\n",
        "\n",
        "print(\"Original Array:\\n\", arr)\n",
        "\n",
        "# Column-wise sum (axis=0)\n",
        "print(\"Column-wise sum (axis=0):\", np.sum(arr, axis=0))\n",
        "\n",
        "# Row-wise sum (axis=1)\n",
        "print(\"Row-wise sum  (axis=1):\", np.sum(arr, axis=1))\n"
      ]
    },
    {
      "cell_type": "code",
      "source": [
        "# 2D NumPy array\n",
        "x = np.array([\n",
        "    [3.0, 7.5, 2.1],\n",
        "    [9.8, 4.6, 5.2]\n",
        "])\n",
        "\n",
        "print(\"Array:\\n\", x)\n",
        "\n",
        "print(\"\\n-------------- Overall -----------------\")\n",
        "print(\"Max           :\", np.max(x))\n",
        "print(\"Min           :\", np.min(x))\n",
        "print(\"Index of max  :\", np.argmax(x)) # Note: This is the index in the flattened array\n",
        "print(\"Index of min  :\", np.argmin(x)) # Note: This is the index in the flattened array\n",
        "print(\"Mean          :\", np.mean(x))\n",
        "print(\"Median        :\", np.median(x))\n",
        "print(\"Variance      :\", np.var(x))\n",
        "print(\"Std Deviation :\", np.std(x))\n",
        "\n",
        "# ------------ Column-wise (axis=0) ---------------\n",
        "# In NumPy, dim=0 corresponds to axis=0\n",
        "print(\"\\n---------- Column-wise (axis=0) ---------\")\n",
        "print(\"Max           :\", np.max(x, axis=0))\n",
        "print(\"Min           :\", np.min(x, axis=0))\n",
        "print(\"Index of max  :\", np.argmax(x, axis=0))\n",
        "print(\"Index of min  :\", np.argmin(x, axis=0))\n",
        "print(\"Mean          :\", np.mean(x, axis=0))\n",
        "print(\"Median        :\", np.median(x, axis=0))\n",
        "print(\"Variance      :\", np.var(x, axis=0))\n",
        "print(\"Std Deviation :\", np.std(x, axis=0))\n",
        "\n",
        "# ---------------- Row-wise (axis=1) ---------------\n",
        "# In NumPy, dim=1 corresponds to axis=1\n",
        "print(\"\\n------------ Row-wise (axis=1) ----------\")\n",
        "print(\"Max           :\", np.max(x, axis=1))\n",
        "print(\"Min           :\", np.min(x, axis=1))\n",
        "print(\"Index of max  :\", np.argmax(x, axis=1))\n",
        "print(\"Index of min  :\", np.argmin(x, axis=1))\n",
        "print(\"Mean          :\", np.mean(x, axis=1))\n",
        "print(\"Median        :\", np.median(x, axis=1))\n",
        "print(\"Variance      :\", np.var(x, axis=1))\n",
        "print(\"Std Deviation :\", np.std(x, axis=1))"
      ],
      "metadata": {
        "colab": {
          "base_uri": "https://localhost:8080/"
        },
        "id": "HDHlhAfadLSd",
        "outputId": "1321ead3-6a5e-4f03-8dc0-a5327b705541"
      },
      "execution_count": null,
      "outputs": [
        {
          "output_type": "stream",
          "name": "stdout",
          "text": [
            "Array:\n",
            " [[3.  7.5 2.1]\n",
            " [9.8 4.6 5.2]]\n",
            "\n",
            "-------------- Overall -----------------\n",
            "Max           : 9.8\n",
            "Min           : 2.1\n",
            "Index of max  : 3\n",
            "Index of min  : 2\n",
            "Mean          : 5.366666666666667\n",
            "Median        : 4.9\n",
            "Variance      : 6.848888888888891\n",
            "Std Deviation : 2.6170381901854034\n",
            "\n",
            "---------- Column-wise (axis=0) ---------\n",
            "Max           : [9.8 7.5 5.2]\n",
            "Min           : [3.  4.6 2.1]\n",
            "Index of max  : [1 0 1]\n",
            "Index of min  : [0 1 0]\n",
            "Mean          : [6.4  6.05 3.65]\n",
            "Median        : [6.4  6.05 3.65]\n",
            "Variance      : [11.56    2.1025  2.4025]\n",
            "Std Deviation : [3.4  1.45 1.55]\n",
            "\n",
            "------------ Row-wise (axis=1) ----------\n",
            "Max           : [7.5 9.8]\n",
            "Min           : [2.1 4.6]\n",
            "Index of max  : [1 0]\n",
            "Index of min  : [2 1]\n",
            "Mean          : [4.2        6.53333333]\n",
            "Median        : [3.  5.2]\n",
            "Variance      : [5.58       5.39555556]\n",
            "Std Deviation : [2.36220236 2.32283352]\n"
          ]
        }
      ]
    }
  ],
  "metadata": {
    "colab": {
      "provenance": []
    },
    "kernelspec": {
      "display_name": "Python 3",
      "name": "python3"
    },
    "language_info": {
      "name": "python"
    }
  },
  "nbformat": 4,
  "nbformat_minor": 0
}